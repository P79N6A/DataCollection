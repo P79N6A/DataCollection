{
 "cells": [
  {
   "cell_type": "markdown",
   "metadata": {},
   "source": [
    "# Pipeline to run all files"
   ]
  },
  {
   "cell_type": "code",
   "execution_count": null,
   "metadata": {},
   "outputs": [],
   "source": [
    "#Gather Articles\n",
    "import NewsAPI as news\n",
    "import os\n",
    "\n",
    "#delete any old sorted article files\n",
    "if os.path.exists(\"articles.csv\"):\n",
    "    os.remove(\"articles.csv\")\n",
    "\n",
    "#inputs in order: set manual date (yes=1/no=0, no = last 24 hours of news), manual start date (leave empty if 0), manual end date (leave empty if 0, companies to pull (6= all 19 companies)\n",
    "news.main(0,\"\"\",\"\",6) "
   ]
  },
  {
   "cell_type": "code",
   "execution_count": null,
   "metadata": {},
   "outputs": [],
   "source": [
    "#Article Cleaning (must pip install tqdm first (only once) to run)\n",
    "import dataClean as dc\n",
    "dc.DataClean(\"NewsAPIOutput.xlsx\")"
   ]
  },
  {
   "cell_type": "code",
   "execution_count": null,
   "metadata": {},
   "outputs": [],
   "source": [
    "#Feature Selection and Binary Article Encoding\n",
    "import FeatureEncoding as fe\n",
    "fe.encoding(0, csv = True)\n",
    "# todo: this part of the code should be streamlined since it took 15 mins lol"
   ]
  },
  {
   "cell_type": "code",
   "execution_count": null,
   "metadata": {},
   "outputs": [],
   "source": [
    "#Logistic Regression Classifier + Article Ranking, complete final file is called 'results_encoding.xlsx'\n",
    "import logReg as lr\n",
    "lr.runLogReg(\"binEncoding.csv\")"
   ]
  },
  {
   "cell_type": "code",
   "execution_count": null,
   "metadata": {},
   "outputs": [],
   "source": [
    "#Extract key phrases + unigrams, complete final file is called 'results_context.xlsx'\n",
    "import ContextExtraction as ce\n",
    "ce.retrieveContext(\"results_encoding.xlsx\")\n",
    "#Tag Ranking"
   ]
  },
  {
   "cell_type": "code",
   "execution_count": null,
   "metadata": {},
   "outputs": [],
   "source": []
  }
 ],
 "metadata": {
  "kernelspec": {
   "display_name": "Python 3",
   "language": "python",
   "name": "python3"
  },
  "language_info": {
   "codemirror_mode": {
    "name": "ipython",
    "version": 3
   },
   "file_extension": ".py",
   "mimetype": "text/x-python",
   "name": "python",
   "nbconvert_exporter": "python",
   "pygments_lexer": "ipython3",
   "version": "3.6.5"
  }
 },
 "nbformat": 4,
 "nbformat_minor": 2
}
