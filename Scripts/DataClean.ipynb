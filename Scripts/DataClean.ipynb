{
 "cells": [
  {
   "cell_type": "code",
   "execution_count": 20,
   "metadata": {},
   "outputs": [],
   "source": [
    "def DataClean(filename):\n",
    "    #import FeatureEncoding\n",
    "    import os\n",
    "    from os import listdir\n",
    "    from os.path import isfile, join\n",
    "    from pathlib import Path\n",
    "    import pandas as pd\n",
    "    import FeatureEncoding\n",
    "    import re, string\n",
    "\n",
    "    # Import Article Data including corresponding Y values\n",
    "    DATA_DIR = \"Data\"    \n",
    "    RAW_DIR = os.path.join(DATA_DIR, filename)\n",
    "    raw = pd.read_excel(RAW_DIR)\n",
    "\n",
    "    #remove blanks (NaN)\n",
    "    df = raw.dropna(subset = ['content', 'title']) \n",
    "\n",
    "    #remove blocked articles without content\n",
    "    df = df[df.content.str.contains(\"Your usage has been flagged\") == False]\n",
    "    df = df[df.content.str.contains(\"To continue, please click the box\") == False]\n",
    "\n",
    "    #remove duplicates by url\n",
    "    df = df.drop_duplicates(subset=['url'], keep='first')\n",
    "\n",
    "    #remove duplicates by content\n",
    "    df = df.drop_duplicates(subset=['content'], keep='first')\n",
    "\n",
    "    #remove punctuation \n",
    "    pattern = re.compile('[^0-9a-zA-Z ]+')\n",
    "    content= map(lambda x: pattern.sub('', x), df['content'])\n",
    "    df['content']=list(content)\n",
    "\n",
    "    # Output Cleaned Article Data\n",
    "    OUTPUT_DIR = os.path.join(DATA_DIR, \"cleanedArticles.csv\")\n",
    "    pd.DataFrame.to_csv(df, path_or_buf=OUTPUT_DIR)"
   ]
  },
  {
   "cell_type": "code",
   "execution_count": 21,
   "metadata": {},
   "outputs": [],
   "source": [
    "def test():\n",
    "    filename = \"sortedarticlesRetail-List-1.xlsx\"\n",
    "    DataClean(filename)"
   ]
  },
  {
   "cell_type": "code",
   "execution_count": 22,
   "metadata": {},
   "outputs": [],
   "source": [
    "#test()"
   ]
  },
  {
   "cell_type": "code",
   "execution_count": null,
   "metadata": {},
   "outputs": [],
   "source": []
  }
 ],
 "metadata": {
  "kernelspec": {
   "display_name": "Python 3",
   "language": "python",
   "name": "python3"
  },
  "language_info": {
   "codemirror_mode": {
    "name": "ipython",
    "version": 3
   },
   "file_extension": ".py",
   "mimetype": "text/x-python",
   "name": "python",
   "nbconvert_exporter": "python",
   "pygments_lexer": "ipython3",
   "version": "3.6.6"
  }
 },
 "nbformat": 4,
 "nbformat_minor": 2
}
