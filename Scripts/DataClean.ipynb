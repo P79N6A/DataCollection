{
 "cells": [
  {
   "cell_type": "markdown",
   "metadata": {},
   "source": [
    "### Jade's Changes\n",
    "\n",
    "<b>Current problems</b>:\n",
    "- amp;\n",
    "- div &gt; div.group &gt; p:first-child\"&gt; = video cnbc\n",
    "- no space between words separated by new line\n",
    "- Check out the companies making headlines before the belldiv gt divgroup gt pfirstchildgt\n",
    "- CNBC in general\n",
    "- shit at the end: To contact... blah blah\n",
    "- © CNBC is a USA TODAY content partner offering financial news and commentary. Its content is produced independently of USA TODAY.\n",
    "- Read or Share this story:\n",
    "- Read more here.\n",
    "- FT subscribers can click here to receive Market Forces every day by email.\n",
    "- Your feedback\n",
    "- I'd love to hear from you. You can email me on michael.mackenzie@ft.com and follow me on Twitter at @michaellachlan.\n",
    "- COPYRIGHT\n",
    "- © 2019 Bloomberg L.P\n",
    "- (Bloomberg)—\n",
    "- Anything with \"Transcript\" should be removed\n",
    "- Write to Sara Castellanos at sara.castellanos@wsj.com\n",
    "- Disclosure: Cramer's charitable trust owns shares of Johnson &amp; Johnson.\n",
    "- Questions for Cramer?Call Cramer: 1-800-743-CNBC\n",
    "- Want to take a deep dive into Cramer's world? Hit him up!Mad Money Twitter - Jim Cramer Twitter - Facebook - Instagram\n",
    "- Questions, comments, suggestions for the \"Mad Money\" website? madcap@cnbc.com\n",
    "- RPT-\n",
    "\n",
    "<b>Some rules I'm considering</b>:\n",
    "- Get rid of CNBC as a source (optional)\n",
    "- Get rid of articles with less than 5 periods\n",
    "- Get rid of articles where writers say \"I\" a lot\n",
    "- Periods between 2 numbers should be preserved\n",
    "- Remove any lines in articles that don't contain periods\n",
    "- Remove any lines that don't have more than 5 words\n",
    "- Remove sentences containing \"more here\"\n",
    "- get rid of anything with Jim Cramer\n"
   ]
  },
  {
   "cell_type": "code",
   "execution_count": 20,
   "metadata": {},
   "outputs": [],
   "source": [
    "def DataClean(filename):\n",
    "    #import FeatureEncoding\n",
    "    import os\n",
    "    from os import listdir\n",
    "    from os.path import isfile, join\n",
    "    from pathlib import Path\n",
    "    import pandas as pd\n",
    "    import FeatureEncoding\n",
    "    import re, string\n",
    "\n",
    "    # Import Article Data including corresponding Y values\n",
    "    DATA_DIR = \"Data\"    \n",
    "    RAW_DIR = os.path.join(DATA_DIR, filename)\n",
    "    raw = pd.read_excel(RAW_DIR)\n",
    "\n",
    "    #remove blanks (NaN)\n",
    "    df = raw.dropna(subset = ['content', 'title']) \n",
    "\n",
    "    #remove blocked articles without content\n",
    "    df = df[df.content.str.contains(\"Your usage has been flagged\") == False]\n",
    "    df = df[df.content.str.contains(\"To continue, please click the box\") == False]\n",
    "\n",
    "    #remove duplicates by url\n",
    "    df = df.drop_duplicates(subset=['url'], keep='first')\n",
    "\n",
    "    #remove duplicates by content\n",
    "    df = df.drop_duplicates(subset=['content'], keep='first')\n",
    "\n",
    "    #remove punctuation \n",
    "    pattern = re.compile('[^0-9a-zA-Z ]+')\n",
    "    content= map(lambda x: pattern.sub(' ', x), df['content'])\n",
    "    df['content']=list(content)\n",
    "\n",
    "    # Output Cleaned Article Data\n",
    "    OUTPUT_DIR = os.path.join(DATA_DIR, \"cleanedArticles.csv\")\n",
    "    pd.DataFrame.to_csv(df, path_or_buf=OUTPUT_DIR)"
   ]
  },
  {
   "cell_type": "code",
   "execution_count": 21,
   "metadata": {},
   "outputs": [],
   "source": [
    "def test():\n",
    "    filename = \"sortedarticlesRetail-List-1.xlsx\"\n",
    "    DataClean(filename)"
   ]
  },
  {
   "cell_type": "code",
   "execution_count": 22,
   "metadata": {},
   "outputs": [],
   "source": [
    "#test()"
   ]
  },
  {
   "cell_type": "code",
   "execution_count": null,
   "metadata": {},
   "outputs": [],
   "source": []
  }
 ],
 "metadata": {
  "kernelspec": {
   "display_name": "Python 3",
   "language": "python",
   "name": "python3"
  },
  "language_info": {
   "codemirror_mode": {
    "name": "ipython",
    "version": 3
   },
   "file_extension": ".py",
   "mimetype": "text/x-python",
   "name": "python",
   "nbconvert_exporter": "python",
   "pygments_lexer": "ipython3",
   "version": "3.6.5"
  }
 },
 "nbformat": 4,
 "nbformat_minor": 2
}
