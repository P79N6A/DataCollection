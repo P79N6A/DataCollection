{
 "cells": [
  {
   "cell_type": "code",
   "execution_count": 1,
   "metadata": {},
   "outputs": [],
   "source": [
    "#import FeatureEncoding\n",
    "import os\n",
    "from os import listdir\n",
    "from os.path import isfile, join\n",
    "from pathlib import Path\n",
    "import pandas as pd\n",
    "import FeatureEncoding\n",
    "import re"
   ]
  },
  {
   "cell_type": "code",
   "execution_count": 4,
   "metadata": {},
   "outputs": [],
   "source": [
    "# Import Article Data including corresponding Y values\n",
    "DATA_DIR = \"Data\"    \n",
    "RAW_DIR = os.path.join(DATA_DIR, \"sortedarticlesRetail-List-1.xlsx\")\n",
    "raw = pd.read_excel(RAW_DIR)\n",
    "rawArts = raw['content']\n",
    "\n",
    "\n",
    "\n"
   ]
  },
  {
   "cell_type": "code",
   "execution_count": 6,
   "metadata": {},
   "outputs": [
    {
     "data": {
      "text/plain": [
       "'The activist investor targeting Lowe’s Cos. believes the home improvement retailer’s stock could triple in value if it makes changes to match up to rival Home Depot Inc., according to people familiar with the matter. Lowe’s said Friday it would add three new directors to its board after D.E. Shaw &amp; Co. took an active stake in the company. The investor’s stake is worth about $1 billion, the people said, asking not to be identified as the details aren’t public. Lowe’s stock rose 1.2 percent at 9:40 a.m. in New York, valuing the company at $85 billion. D.E. Shaw believes Lowe’s is dramatically underperforming Home Depot on revenue, earnings, and costs despite both companies having a similar footprint, the people said. The lagging performance is largely the result of poor execution and the company should focus on improving sales, including its online offerings and marketing, the people said. Higher shipping costs than Home Depot and a less flexible labor structure are also contributing to the gap in value, they said. Lowe’s will nominate David Batchelder, co-founder of Relational Investors, Lisa Wardell, chief executive officer of Adtalem Global Education, and T. Rowe Price Group Chairman Brian Rogers to its board at its annual general meeting later this year, according to a statement. “The addition of these directors complements our board of directors’ skills and experiences,” CEO Robert Niblock said. “We are confident they will provide valuable perspectives as we continue to execute our strategy, drive profitability and enhance value for all Lowe’s shareholders.” Lowe’s board and management remain confident in the company’s ability to execute its strategy, drive profitability and enhance value for shareholders, a spokeswoman for Lowe’s said in a statement in response to questions. Retail Malaise Lowe’s, based in Mooresville, North Carolina, has been locked in a battle with larger rival Home Depot as both chains seek to avoid the malaise that has plagued the retail industry. The company has struggled to break out of its role as the industry’s second fiddle, lagging behind in sales growth. While construction needs after hurricanes Harvey and Irma helped lift Lowe’s third-quarter same-store sales, the company left its full-year profit forecast unchanged, missing Wall Street estimates. Batchelder, who will serve on the company’s compensation committee, also sat on the board of Home Depot 2007 to 2011 when that company underwent a dramatic transformation, including removing the CEO and several new directors. It will be left to the board to determine whether Niblock, Lowe’s chairman, president, and CEO, should be replaced, the people said. Rogers joins the board after T. Rowe Price Group withheld its vote on every single director last year at Lowe’s annual general meeting. Quentin Koffey, a portfolio manager at D.E. Shaw, said in Friday’s statement that he appreciated the “collaborative approach” Lowe’s had taken. “Lowe’s is an excellent company with tremendous value creation opportunities in front of it, and we believe the new directors will be significant assets to the board,” Koffey said. D.E. Shaw launched a new activist platform under Koffey, who joined the firm in June. Koffey was previously a portfolio manager at Paul Singer’s Elliott Management Corp.'"
      ]
     },
     "execution_count": 6,
     "metadata": {},
     "output_type": "execute_result"
    }
   ],
   "source": [
    "rawArts[1]"
   ]
  },
  {
   "cell_type": "code",
   "execution_count": null,
   "metadata": {},
   "outputs": [],
   "source": []
  }
 ],
 "metadata": {
  "kernelspec": {
   "display_name": "Python 3",
   "language": "python",
   "name": "python3"
  },
  "language_info": {
   "codemirror_mode": {
    "name": "ipython",
    "version": 3
   },
   "file_extension": ".py",
   "mimetype": "text/x-python",
   "name": "python",
   "nbconvert_exporter": "python",
   "pygments_lexer": "ipython3",
   "version": "3.6.6"
  }
 },
 "nbformat": 4,
 "nbformat_minor": 2
}
