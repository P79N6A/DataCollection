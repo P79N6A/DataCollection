{
 "cells": [
  {
   "cell_type": "markdown",
   "metadata": {},
   "source": [
    "# Content Extraction\n",
    "\n",
    "The purpose of this code is to highlight key terms for articles that are determined to be \"impactful\". \n",
    "\n",
    "This step would be done after the article has been determined \"impactful\".\n",
    "\n",
    "Resources:\n",
    "http://vipulsharma20.blogspot.com/2017/03/sharingan-newspaper-text-and-context.html\n",
    "https://github.com/vipul-sharma20/sharingan/blob/master/sharingan/summrizer/context.py\n",
    "http://nltk.sourceforge.net/doc/en/ch03.html"
   ]
  },
  {
   "cell_type": "code",
   "execution_count": 6,
   "metadata": {},
   "outputs": [
    {
     "name": "stdout",
     "output_type": "stream",
     "text": [
      "[nltk_data] Downloading package vader_lexicon to\n",
      "[nltk_data]     /Users/jadekhiev/nltk_data...\n",
      "[nltk_data]   Package vader_lexicon is already up-to-date!\n",
      "[nltk_data] Downloading package stopwords to\n",
      "[nltk_data]     /Users/jadekhiev/nltk_data...\n",
      "[nltk_data]   Package stopwords is already up-to-date!\n",
      "[nltk_data] Downloading package averaged_perceptron_tagger to\n",
      "[nltk_data]     /Users/jadekhiev/nltk_data...\n",
      "[nltk_data]   Package averaged_perceptron_tagger is already up-to-\n",
      "[nltk_data]       date!\n",
      "[nltk_data] Downloading package wordnet to\n",
      "[nltk_data]     /Users/jadekhiev/nltk_data...\n",
      "[nltk_data]   Package wordnet is already up-to-date!\n"
     ]
    }
   ],
   "source": [
    "import os\n",
    "import sys\n",
    "from pathlib import Path\n",
    "\n",
    "# Data packages\n",
    "import math\n",
    "import pandas as pd\n",
    "import numpy as np\n",
    "\n",
    "#Progress bar\n",
    "from tqdm import tqdm\n",
    "\n",
    "#Counter\n",
    "from collections import Counter\n",
    "\n",
    "#Operation\n",
    "import operator\n",
    "\n",
    "#Natural Language Processing Packages\n",
    "import re\n",
    "import nltk\n",
    "\n",
    "## Download Resources\n",
    "nltk.download(\"vader_lexicon\")\n",
    "nltk.download(\"stopwords\")\n",
    "nltk.download(\"averaged_perceptron_tagger\")\n",
    "nltk.download(\"wordnet\")\n",
    "\n",
    "from nltk.sentiment import SentimentAnalyzer\n",
    "from nltk.sentiment.vader import SentimentIntensityAnalyzer\n",
    "from nltk.sentiment.util import *\n",
    "from nltk import tokenize\n",
    "from nltk.corpus import stopwords\n",
    "from nltk.tag import PerceptronTagger\n",
    "from nltk.data import find\n",
    "\n",
    "## Machine Learning\n",
    "import sklearn\n",
    "import sklearn.metrics as metrics\n",
    "from sklearn.feature_selection import *\n",
    "from sklearn.linear_model import LogisticRegression\n",
    "from sklearn.model_selection import train_test_split\n",
    "from sklearn.metrics import accuracy_score, confusion_matrix\n",
    "from sklearn import datasets"
   ]
  },
  {
   "cell_type": "code",
   "execution_count": 7,
   "metadata": {},
   "outputs": [],
   "source": [
    "def importData():\n",
    "    #Import Labelled Data\n",
    "    DATA_DIR = \"Data\"\n",
    "    thispath = Path().absolute()\n",
    "    #dtype = {\"index\": str, \"title\": str, \"description\": str, \"url\": str, \"date\": str, \"Retail Relevance\": str, \"Economy Relevant\": str, \"Market moving\": str}\n",
    "    RET_ARTICLES = os.path.join(DATA_DIR, \"retailarticles-18-11-06.xlsx\")\n",
    "\n",
    "    \n",
    "    df = pd.read_excel(RET_ARTICLES)\n",
    "\n",
    "    try:\n",
    "        df.head()\n",
    "    except:\n",
    "        pass\n",
    "    return df"
   ]
  },
  {
   "cell_type": "code",
   "execution_count": 8,
   "metadata": {},
   "outputs": [],
   "source": [
    "#def SelectFeaturesNP():\n",
    "articleDf = importData()"
   ]
  },
  {
   "cell_type": "code",
   "execution_count": null,
   "metadata": {},
   "outputs": [],
   "source": [
    "# Part of Speech Tagging\n",
    "# Google: https://en.wikipedia.org/wiki/Part-of-speech_tagging\n",
    "tagger = PerceptronTagger()\n",
    "pos_tag = tagger.tag"
   ]
  },
  {
   "cell_type": "code",
   "execution_count": null,
   "metadata": {},
   "outputs": [],
   "source": [
    "# This grammar is described in the paper by S. N. Kim,\n",
    "# T. Baldwin, and M.-Y. Kan.\n",
    "# Evaluating n-gram based evaluation metrics for automatic\n",
    "# keyphrase extraction.\n",
    "# Technical report, University of Melbourne, Melbourne 2010.\n",
    "grammar = r\"\"\"\n",
    "    NBAR:\n",
    "        {<NN.*|JJ>*<NN.*>}  # Nouns and Adjectives, terminated with Nouns\n",
    "        \n",
    "    NP:\n",
    "        {<NBAR>}\n",
    "        {<NBAR><IN><NBAR>}  # Above, connected with in/of/etc...\n",
    "\"\"\""
   ]
  },
  {
   "cell_type": "code",
   "execution_count": null,
   "metadata": {},
   "outputs": [],
   "source": [
    "# Create phrase tree\n",
    "chunker = nltk.RegexpParser(grammar)"
   ]
  },
  {
   "cell_type": "code",
   "execution_count": null,
   "metadata": {},
   "outputs": [],
   "source": [
    "# Noun Phrase Extraction Support Functions\n",
    "#from nltk.corpus import stopwords\n",
    "#stopwords = stopwords.words('english')\n",
    "stopwords = [\"myself\", \"our\", \"ours\", \"ourselves\", \"you\", \"your\", \"yours\", \"yourself\", \"yourselves\", \"him\", \"his\", \"himself\", \"she\", \"her\", \"hers\", \"herself\", \"its\", \"itself\", \"they\", \"them\", \"their\", \"theirs\", \"themselves\", \"what\", \"which\", \"who\", \"whom\", \"this\", \"that\", \"these\", \"those\", \"are\", \"was\", \"were\", \"been\", \"being\", \"have\", \"has\", \"had\", \"having\", \"does\", \"did\", \"doing\", \"the\", \"and\", \"but\", \"because\", \"until\", \"while\", \"for\", \"with\", \"about\", \"into\", \"through\", \"during\", \"before\", \"after\", \"from\", \"down\", \"out\", \"off\", \"over\", \"under\", \"again\", \"further\", \"then\", \"once\", \"here\", \"there\", \"when\", \"where\", \"why\", \"how\", \"all\", \"any\", \"both\", \"each\", \"few\", \"more\", \"most\", \"other\", \"some\", \"such\", \"nor\", \"not\", \"only\", \"own\", \"same\", \"than\", \"too\", \"very\", \"can\", \"will\", \"just\", \"don\", \"should\", \"now\"]\n",
    "lemmatizer = nltk.WordNetLemmatizer()\n",
    "stemmer = nltk.stem.porter.PorterStemmer()\n",
    "\n",
    "# generator, generate leaves one by one\n",
    "def leaves(tree):\n",
    "    \"\"\"Finds NP (nounphrase) leaf nodes of a chunk tree.\"\"\"\n",
    "    for subtree in tree.subtrees(filter = lambda t: t.label()=='NP' or t.label()=='JJ' or t.label()=='RB'):\n",
    "        yield subtree.leaves()\n",
    "\n",
    "# stemming, lematizing, lower case... \n",
    "def normalise(word):\n",
    "    \"\"\"Normalises words to lowercase and stems and lemmatizes it.\"\"\"\n",
    "    word = word.lower()\n",
    "    word = stemmer.stem(word)\n",
    "    word = lemmatizer.lemmatize(word)\n",
    "    return word\n",
    "\n",
    "# stop-words and length control\n",
    "def acceptable_word(word):\n",
    "    \"\"\"Checks conditions for acceptable word: length, stopword.\"\"\"\n",
    "    accepted = bool(2 <= len(word) <= 40\n",
    "        and word.lower() not in stopwords)\n",
    "    return accepted\n",
    "\n",
    "# generator, create item once a time\n",
    "def get_terms(tree):\n",
    "    for leaf in leaves(tree):\n",
    "        term = [normalise(w) for w,t in leaf if acceptable_word(w) ]\n",
    "        # Phrase only\n",
    "        if len(term)>1:\n",
    "            yield term\n",
    "            \n",
    "# Flatten phrase lists to get tokens for analysis\n",
    "def flatten(npTokenList):\n",
    "    finalList =[]\n",
    "    for phrase in npTokenList:\n",
    "        token = ''\n",
    "        for word in phrase:\n",
    "            token += word + ' '\n",
    "        finalList.append(token.rstrip())\n",
    "    return finalList"
   ]
  },
  {
   "cell_type": "code",
   "execution_count": 264,
   "metadata": {},
   "outputs": [],
   "source": [
    "content = articleDf['content'].iloc[2]"
   ]
  },
  {
   "cell_type": "code",
   "execution_count": 257,
   "metadata": {},
   "outputs": [],
   "source": [
    "\"\"\"\n",
    "Utility functions for filtering content\n",
    "originally written by: vipul-sharma20\n",
    "modifications made by: jadekhiev\n",
    "\"\"\"\n",
    "from nltk import tokenize\n",
    "#nltk.download('punkt')\n",
    "from nltk.tokenize import word_tokenize\n",
    "from nltk.tokenize import sent_tokenize\n",
    "\n",
    "stopwords = ['“','”','’',\"read\", \"Read\", \"Share\",\"File\", \"file\", \"FILE\",\"'s\",\"i\", \"me\", \"my\", \"myself\", \"we\", \"our\", \"ours\", \"ourselves\", \"you\", \"your\", \"yours\", \"yourself\", \"yourselves\", \"he\", \"him\", \"his\", \"himself\", \"she\", \"her\", \"hers\", \"herself\", \"it\", \"its\", \"itself\", \"they\", \"them\", \"their\", \"theirs\", \"themselves\", \"what\", \"which\", \"who\", \"whom\", \"this\", \"that\", \"these\", \"those\", \"am\", \"is\", \"are\", \"was\", \"were\", \"be\", \"been\", \"being\", \"have\", \"has\", \"had\", \"having\", \"do\", \"does\", \"did\", \"doing\", \"a\", \"an\", \"the\", \"and\", \"but\", \"if\", \"or\", \"because\", \"as\", \"until\", \"while\", \"of\", \"at\", \"by\", \"for\", \"with\", \"about\", \"into\", \"through\", \"during\", \"before\", \"after\", \"to\", \"from\", \"up\", \"down\", \"in\", \"out\", \"on\", \"off\", \"over\", \"under\", \"again\", \"further\", \"then\", \"once\", \"here\", \"there\", \"when\", \"where\", \"why\", \"how\", \"all\", \"any\", \"both\", \"each\", \"few\", \"more\", \"most\", \"other\", \"some\", \"such\", \"no\", \"nor\", \"not\", \"only\", \"own\", \"same\", \"so\", \"than\", \"too\", \"very\", \"s\", \"t\", \"can\", \"will\", \"just\", \"don\", \"should\", \"now\"]\n",
    "\n",
    "\n",
    "def getWords(sentence):\n",
    "    \"\"\"\n",
    "    Extracts words/tokens from a sentence\n",
    "    :param sentence: (str) sentence\n",
    "    :returns: list of tokens\n",
    "    \"\"\"\n",
    "    words = word_tokenize(sentence)\n",
    "    words = ([word for word in words if word.lower() not in stopwords])\n",
    "    #print(words)\n",
    "    return words\n",
    "\n",
    "\n",
    "def getParagraphs(content):\n",
    "    \"\"\"\n",
    "    Exctracts paragraphs from the the text content\n",
    "    :param content: (str) text content\n",
    "    :returns: list of paragraphs\n",
    "    \"\"\"\n",
    "    paraList = content.split('\\n\\n')\n",
    "    return paraList\n",
    "\n",
    "\n",
    "def getSentences(paragraph):\n",
    "    \"\"\"\n",
    "    Extracts sentences from a paragraph\n",
    "    :param paragraph: (str) paragraph text\n",
    "    :returns: list of sentences\n",
    "    \"\"\"\n",
    "    indexed = {}\n",
    "    sentenceList = tokenize.sent_tokenize(paragraph)\n",
    "    for i, s in enumerate(sentenceList):\n",
    "        indexed[i] = s\n",
    "    return sentenceList, indexed"
   ]
  },
  {
   "cell_type": "code",
   "execution_count": 222,
   "metadata": {},
   "outputs": [],
   "source": [
    "# -*- coding: utf-8 -*-\n",
    "\n",
    "\"\"\"\n",
    "Script to extract important topics from content\n",
    "originally written by: vipul-sharma20\n",
    "modifications made by: jadekhiev\n",
    "\"\"\"\n",
    "\n",
    "import nltk\n",
    "#nltk.download('brown')\n",
    "from nltk.corpus import brown\n",
    "\n",
    "train = brown.tagged_sents(categories='news')\n",
    "\n",
    "# backoff regex tagging\n",
    "regex_tag = nltk.RegexpTagger([\n",
    "     (r'[$][0-9]+\\s[MmBbTt]\\S+','DV'), #dollar value \n",
    "     #(r'^[-\\:]?[0-9]+(.[0-9]+)?$', 'CD'),\n",
    "     (r'.*able$', 'JJ'),\n",
    "     (r'^[A-Z].*$', 'NNP'),\n",
    "     (r'.*ly$', 'RB'),\n",
    "     (r'.*s$', 'NNS'),\n",
    "     (r'.*ing$', 'VBG'),\n",
    "     (r'.*ed$', 'VBD'),\n",
    "     (r'.[\\/\\/]\\S+', 'URL'), #URL / useless\n",
    "     (r'.*', 'NN')\n",
    "])\n",
    "\n",
    "unigram_tag = nltk.UnigramTagger(train, backoff=regex_tag)\n",
    "bigram_tag = nltk.BigramTagger(train, backoff=unigram_tag)\n",
    "trigram_tag = nltk.TrigramTagger(train, backoff=bigram_tag)\n",
    "\n",
    "# custom defined CFG by vipul\n",
    "cfg = dict()\n",
    "cfg['NNP+NNP'] = 'NNP'\n",
    "cfg['NN+NN'] = 'NNI'\n",
    "cfg['NNI+NN'] = 'NNI'\n",
    "cfg['JJ+JJ'] = 'JJ'\n",
    "cfg['JJ+NN'] = 'NNI'\n",
    "cfg['CD+CD'] = 'CD'\n",
    "# combination for monetary movement e.g. quarterly profit fell [VBD]\n",
    "cfg['RB+NN'] = 'NNP'\n",
    "cfg['NNP+VBD'] = 'NNP'\n",
    "\n",
    "def get_info(content):\n",
    "    words = getWords(content)\n",
    "    temp_tags = trigram_tag.tag(words)\n",
    "    tags = re_tag(temp_tags)\n",
    "    normalized = True\n",
    "    while normalized:\n",
    "        normalized = False\n",
    "        #print(\"len tag: \", len(tags))\n",
    "        print([tag for tag in tags])\n",
    "        for i in range(0, len(tags) - 1):\n",
    "            #print(\"i: \", i)\n",
    "            tagged1 = tags[i]\n",
    "            if i+1 >= len(tags):\n",
    "                break\n",
    "            tagged2 = tags[i+1]\n",
    "            key = tagged1[1] + '+' + tagged2[1]\n",
    "            pos = cfg.get(key)\n",
    "            if pos:\n",
    "                tags.pop(i)\n",
    "                tags.pop(i)\n",
    "                re_tagged = tagged1[0] + ' ' + tagged2[0]\n",
    "                tags.insert(i, (re_tagged, pos))\n",
    "                normalized = True\n",
    "\n",
    "    final_context = []\n",
    "    for tag in tags:\n",
    "        if tag[1] == 'NNP' or tag[1] == 'NNI':\n",
    "            final_context.append(tag[0])\n",
    "    return final_context\n",
    "\n",
    "\n",
    "def re_tag(tagged):\n",
    "    new_tagged = []\n",
    "    for tag in tagged:\n",
    "        if tag[1] == 'NP' or tag[1] == 'NP-TL':\n",
    "            new_tagged.append((tag[0], 'NNP'))\n",
    "        elif tag[1][-3:] == '-TL':\n",
    "            new_tagged.append((tag[0], tag[1][:-3]))\n",
    "        elif tag[1][-1:] == 'S':\n",
    "            new_tagged.append((tag[0], tag[1][:-1]))\n",
    "        else:\n",
    "            new_tagged.append((tag[0], tag[1]))\n",
    "    return new_tagged"
   ]
  },
  {
   "cell_type": "code",
   "execution_count": 265,
   "metadata": {},
   "outputs": [
    {
     "name": "stdout",
     "output_type": "stream",
     "text": [
      "[('race', 'NN'), ('catch', 'NN'), ('Amazon.com', 'NNP'), ('Inc.', 'VBN'), ('online', 'NN'), ('retailing', 'VBG'), (',', ','), ('Walmart', 'NNP'), ('Inc.', 'VBN'), ('issued', 'VBN'), ('misleading', 'VBG'), ('e-commerce', 'NN'), ('results', 'NN'), ('fired', 'VBD'), ('executive', 'NN'), ('complained', 'VBD'), ('company', 'NN'), ('breaking', 'VBG'), ('law', 'NN'), (',', ','), ('according', 'IN'), ('whistle-blower', 'NN'), ('lawsuit', 'NN'), ('.', '.'), ('Walmart', 'NNP'), ('shares', 'NN'), ('fell', 'VBD'), ('much', 'AP'), ('2', 'CD'), ('percent', 'NN'), ('.', '.'), ('Tri', 'NNP'), ('Huynh', 'NNP'), (',', ','), ('former', 'AP'), ('director', 'NN'), ('business', 'NN'), ('development', 'NN'), ('Walmart', 'NNP'), (',', ','), ('claims', 'NN'), ('terminated', 'VBN'), ('false', 'JJ'), ('pretenses', 'NN'), ('repeatedly', 'RB'), ('raising', 'VBG'), ('concerns', 'VBZ'), ('company', 'NN'), ('overly', 'QL'), ('aggressive', 'JJ'), ('push', 'VB'), ('show', 'NN'), ('meteoric', 'NN'), ('growth', 'NN'), ('e-commerce', 'NN'), ('business', 'NN'), ('means', 'VBZ'), ('possible', 'JJ'), ('--', '--'), ('even', 'RB'), (',', ','), ('illegitimate', 'NN'), ('ones.', 'NN'), ('Chief', 'NN'), ('Executive', 'JJ'), ('Officer', 'NN'), ('Doug', 'NNP'), ('McMillon', 'NNP'), (',', ','), ('Walmart', 'NNP'), ('invested', 'VBD'), ('billions', 'NN'), ('catch', 'NN'), ('Amazon', 'NNP'), ('e-commerce', 'NN'), ('past', 'NN'), ('years', 'NN'), (',', ','), ('last', 'AP'), ('year', 'NN'), ('enjoyed', 'VBN'), ('quarterly', 'RB'), ('online', 'NN'), ('sales', 'NN'), ('growth', 'NN'), ('rates', 'NN'), ('surpassing', 'VBG'), ('50', 'CD'), ('percent', 'NN'), (',', ','), ('well', 'QL'), ('above', 'IN'), ('peers', 'NN'), ('include', 'VB'), ('Target', 'NNP'), ('Corp.', 'NN'), ('Best', 'JJT'), ('Buy', 'NNP'), ('Co.', 'NN'), ('Huynh', 'NNP'), ('claims', 'NN'), ('Walmart', 'NNP'), ('mislabeled', 'VBD'), ('products', 'NN'), ('third-party', 'NN'), ('vendors', 'NN'), ('received', 'VBN'), ('lower', 'JJR'), ('commissions', 'NN'), (',', ','), ('failed', 'VBD'), ('process', 'NN'), ('customer', 'NN'), ('returns', 'NN'), (',', ','), ('allowed', 'VBD'), ('offensive', 'JJ'), ('items', 'NN'), ('onto', 'IN'), ('site', 'NN'), ('.', '.'), ('Huynh', 'NNP'), ('dismissal', 'NN'), ('January', 'NNP'), ('2017', 'NN'), ('--', '--'), ('day', 'NN'), ('retail-industry', 'NN'), ('publication', 'NN'), ('singled', 'VBD'), ('one', 'CD'), ('sector', 'NN'), ('rising', 'VBG'), ('stars', 'NN'), ('--', '--'), ('retaliation', 'NN'), ('warning', 'NN'), ('senior', 'NN'), ('executives', 'NN'), ('misdeeds', 'NN'), (',', ','), ('said', 'VBD'), ('lawsuit', 'NN'), (',', ','), ('filed', 'VBD'), ('Thursday', 'NR'), ('employment', 'NN'), ('litigation', 'NN'), ('attorney', 'NN'), ('David', 'NNP'), ('M.', 'NNP'), ('deRubertis', 'NN'), ('San', 'NNP'), ('Francisco', 'NNP'), ('federal', 'JJ'), ('court', 'NN'), ('.', '.'), ('Wal-Mart', 'NNP'), ('sacrificed', 'VBD'), ('betrayed', 'VBD'), ('founder', 'NN'), ('key', 'NN'), ('principles', 'NN'), ('integrity', 'NN'), ('honesty', 'NN'), (',', ','), ('pushing', 'VBG'), ('core', 'NN'), ('values', 'NN'), ('aside', 'RB'), ('rush', 'NN'), ('win', 'VB'), ('e-commerce', 'NN'), ('war', 'NN'), ('costs', 'VBZ'), (',', ','), ('70-page', 'NN'), ('complaint', 'NN'), ('says', 'VBZ'), (',', ','), ('referring', 'VBG'), ('founder', 'NN'), ('Sam', 'NNP'), ('Walton', 'NNP'), ('.', '.'), (',', ','), ('realized', 'VBD'), ('must', 'MD'), ('silence', 'NN'), ('whistle-blower', 'NN'), ('spoke', 'VBD'), ('against', 'IN'), ('‘', 'NN'), ('win', 'VB'), ('costs', 'NN'), ('approach.', 'NN'), ('Walmart', 'NNP'), ('officials', 'NN'), ('weren', 'NN'), ('immediately', 'RB'), ('available', 'JJ'), ('comment', 'NN'), ('lawsuit', 'NN'), ('.', '.'), ('Digital', 'NNP'), ('Downshift', 'NNP'), ('Walmart', 'NNP'), ('online', 'NN'), ('expansion', 'NN'), ('decelerated', 'VBD'), ('latest', 'JJT'), ('quarter', 'NN'), ('Source', 'NNP'), (':', ':'), ('Walmart', 'NNP'), ('Note', 'VB'), (':', ':'), ('Fiscal', 'NNP'), ('year', 'NN'), ('ends', 'NN'), ('Jan.', 'NNP'), ('31', 'CD'), ('Along', 'IN'), ('2016', 'NN'), ('acquisition', 'NN'), ('Jet.com', 'NNP'), (',', ','), ('rollout', 'NN'), ('two-day', 'NN'), ('free', 'JJ'), ('delivery', 'NN'), ('recruitment', 'NN'), ('sought-after', 'NN'), ('web', 'NN'), ('engineers', 'NN'), (',', ','), ('Walmart', 'NNP'), ('strategy', 'NN'), ('also', 'RB'), ('includes', 'VBZ'), ('building', 'NN'), ('marketplace', 'NN'), ('site', 'NN'), (',', ','), ('third-party', 'NN'), ('vendors', 'NN'), ('sell', 'VB'), ('wares', 'NN'), ('pay', 'VB'), ('retailer', 'NN'), ('fee', 'NN'), (',', ','), ('usually', 'RB'), ('around', 'RB'), ('15', 'CD'), ('percent', 'NN'), ('.', '.'), ('number', 'NN'), ('products', 'NN'), ('available', 'JJ'), ('Walmart', 'NNP'), ('site', 'NN'), ('soared', 'VBD'), (',', ','), ('7', 'CD'), ('million', 'CD'), ('2015', 'NN'), ('75', 'CD'), ('million', 'CD'), ('February', 'NNP'), ('.', '.'), ('Walmart', 'NNP'), ('overlooked', 'VBN'), ('basic', 'JJ'), ('internal', 'JJ'), ('controls', 'NN'), ('quest', 'NN'), ('growth', 'NN'), (',', ','), ('according', 'IN'), ('lawsuit', 'NN'), ('.', '.'), ('example', 'NN'), (',', ','), ('Walmart', 'NNP'), ('systems', 'NN'), ('sometimes', 'RB'), ('failed', 'VBD'), ('label', 'NN'), ('marketplace', 'NN'), ('items', 'NN'), ('right', 'JJ'), ('product', 'NN'), ('category', 'NN'), (',', ','), ('resulting', 'VBG'), ('vendors', 'NN'), ('paying', 'VBG'), ('higher', 'JJR'), ('commissions', 'NN'), ('.', '.'), ('company', 'NN'), ('also', 'RB'), ('failed', 'VBD'), ('process', 'NN'), ('customer', 'NN'), ('returns', 'NN'), ('items', 'NN'), ('totaling', 'VBG'), ('$', 'NN'), ('7', 'CD'), ('million', 'CD'), (',', ','), ('resulted', 'VBD'), ('reporting', 'VBG'), ('inflated', 'VBD'), ('sales', 'NN'), (',', ','), ('Huynh', 'NNP'), ('said', 'VBD'), ('.', '.'), ('Huynh', 'NNP'), (',', ','), ('native', 'NN'), ('Vietnam', 'NNP'), (',', ','), ('joined', 'VBD'), ('Walmart', 'NNP'), ('2014', 'NN'), ('Amazon', 'NNP'), ('.', '.'), ('claims', 'NN'), ('warned', 'VBN'), ('superiors', 'NN'), ('company', 'NN'), ('ethics', 'NN'), ('department', 'NN'), ('Walmart', 'NNP'), ('properly', 'RB'), ('address', 'NN'), ('issues', 'NN'), (',', ','), ('failure', 'NN'), ('could', 'MD'), ('serious', 'JJ'), ('long-term', 'NN'), ('implications', 'NN'), ('critically', 'RB'), ('important', 'JJ'), ('e-commerce', 'NN'), ('business.', 'NN'), ('said', 'VBD'), ('told', 'VBD'), ('stop', 'VB'), ('raising', 'VBG'), ('concerns', 'VBZ'), (',', ','), ('eventually', 'RB'), ('brought', 'VBD'), ('U.S.', 'NNP'), ('e-commerce', 'NN'), ('chief', 'NN'), ('Marc', 'NNP'), ('Lore', 'NNP'), ('early', 'JJ'), ('2017', 'NN'), (',', ','), ('abruptly', 'RB'), ('terminated', 'VBN'), ('part', 'NN'), ('broader', 'NN'), ('workforce', 'NN'), ('reduction', 'NN'), ('took', 'VBD'), ('place', 'NN'), ('later', 'RBR'), ('month', 'NN'), ('.', '.'), ('Huynh', 'NNP'), ('sued', 'VBN'), ('accusing', 'VBG'), ('Walmart', 'NNP'), ('whistle-blower', 'NN'), ('retaliation', 'NN'), ('violation', 'NN'), ('Sarbanes-Oxley', 'NNP'), ('Act', 'NN'), (',', ','), ('retaliation', 'NN'), ('violation', 'NN'), ('California', 'NNP'), ('labor', 'NN'), ('code', 'NN'), (',', ','), ('failure', 'NN'), ('prevent', 'VB'), ('discrimination', 'NN'), (',', ','), ('wrongful', 'JJ'), ('termination', 'NN'), ('.', '.'), ('seeks', 'VBZ'), ('unspecified', 'JJ'), ('damages', 'NN'), ('lost', 'VBD'), ('wages', 'NN'), ('economic', 'JJ'), ('losses', 'NN'), (',', ','), ('special', 'JJ'), ('damages', 'NN'), ('punitive', 'NN'), ('damages', 'NN'), ('.', '.'), ('case', 'NN'), ('Huynh', 'NNP'), ('vs.', 'IN'), ('Wal-Mart', 'NNP'), ('Stores', 'NNP'), ('Inc.', 'VBN'), (',', ','), ('18-cv-01631', 'NN'), (',', ','), ('U.S.', 'NNP'), ('District', 'NN'), ('Court', 'NN'), (',', ','), ('Northern', 'JJ'), ('District', 'NN'), ('California', 'NNP'), ('(', '('), ('San', 'NNP'), ('Francisco', 'NNP'), (')', ')'), ('.', '.')]\n",
      "[('race catch', 'NNI'), ('Amazon.com', 'NNP'), ('Inc.', 'VBN'), ('online', 'NN'), ('retailing', 'VBG'), (',', ','), ('Walmart', 'NNP'), ('Inc.', 'VBN'), ('issued', 'VBN'), ('misleading', 'VBG'), ('e-commerce results', 'NNI'), ('fired', 'VBD'), ('executive', 'NN'), ('complained', 'VBD'), ('company', 'NN'), ('breaking', 'VBG'), ('law', 'NN'), (',', ','), ('according', 'IN'), ('whistle-blower lawsuit', 'NNI'), ('.', '.'), ('Walmart', 'NNP'), ('shares', 'NN'), ('fell', 'VBD'), ('much', 'AP'), ('2', 'CD'), ('percent', 'NN'), ('.', '.'), ('Tri Huynh', 'NNP'), (',', ','), ('former', 'AP'), ('director business', 'NNI'), ('development', 'NN'), ('Walmart', 'NNP'), (',', ','), ('claims', 'NN'), ('terminated', 'VBN'), ('false pretenses', 'NNI'), ('repeatedly', 'RB'), ('raising', 'VBG'), ('concerns', 'VBZ'), ('company', 'NN'), ('overly', 'QL'), ('aggressive', 'JJ'), ('push', 'VB'), ('show meteoric', 'NNI'), ('growth e-commerce', 'NNI'), ('business', 'NN'), ('means', 'VBZ'), ('possible', 'JJ'), ('--', '--'), ('even', 'RB'), (',', ','), ('illegitimate ones.', 'NNI'), ('Chief', 'NN'), ('Executive Officer', 'NNI'), ('Doug McMillon', 'NNP'), (',', ','), ('Walmart invested', 'NNP'), ('billions catch', 'NNI'), ('Amazon', 'NNP'), ('e-commerce past', 'NNI'), ('years', 'NN'), (',', ','), ('last', 'AP'), ('year', 'NN'), ('enjoyed', 'VBN'), ('quarterly online', 'NNP'), ('sales growth', 'NNI'), ('rates', 'NN'), ('surpassing', 'VBG'), ('50', 'CD'), ('percent', 'NN'), (',', ','), ('well', 'QL'), ('above', 'IN'), ('peers', 'NN'), ('include', 'VB'), ('Target', 'NNP'), ('Corp.', 'NN'), ('Best', 'JJT'), ('Buy', 'NNP'), ('Co.', 'NN'), ('Huynh', 'NNP'), ('claims', 'NN'), ('Walmart mislabeled', 'NNP'), ('products third-party', 'NNI'), ('vendors', 'NN'), ('received', 'VBN'), ('lower', 'JJR'), ('commissions', 'NN'), (',', ','), ('failed', 'VBD'), ('process customer', 'NNI'), ('returns', 'NN'), (',', ','), ('allowed', 'VBD'), ('offensive items', 'NNI'), ('onto', 'IN'), ('site', 'NN'), ('.', '.'), ('Huynh', 'NNP'), ('dismissal', 'NN'), ('January', 'NNP'), ('2017', 'NN'), ('--', '--'), ('day retail-industry', 'NNI'), ('publication', 'NN'), ('singled', 'VBD'), ('one', 'CD'), ('sector', 'NN'), ('rising', 'VBG'), ('stars', 'NN'), ('--', '--'), ('retaliation warning', 'NNI'), ('senior executives', 'NNI'), ('misdeeds', 'NN'), (',', ','), ('said', 'VBD'), ('lawsuit', 'NN'), (',', ','), ('filed', 'VBD'), ('Thursday', 'NR'), ('employment litigation', 'NNI'), ('attorney', 'NN'), ('David M.', 'NNP'), ('deRubertis', 'NN'), ('San Francisco', 'NNP'), ('federal court', 'NNI'), ('.', '.'), ('Wal-Mart sacrificed', 'NNP'), ('betrayed', 'VBD'), ('founder key', 'NNI'), ('principles integrity', 'NNI'), ('honesty', 'NN'), (',', ','), ('pushing', 'VBG'), ('core values', 'NNI'), ('aside rush', 'NNP'), ('win', 'VB'), ('e-commerce war', 'NNI'), ('costs', 'VBZ'), (',', ','), ('70-page complaint', 'NNI'), ('says', 'VBZ'), (',', ','), ('referring', 'VBG'), ('founder', 'NN'), ('Sam Walton', 'NNP'), ('.', '.'), (',', ','), ('realized', 'VBD'), ('must', 'MD'), ('silence whistle-blower', 'NNI'), ('spoke', 'VBD'), ('against', 'IN'), ('‘', 'NN'), ('win', 'VB'), ('costs approach.', 'NNI'), ('Walmart', 'NNP'), ('officials weren', 'NNI'), ('immediately', 'RB'), ('available comment', 'NNI'), ('lawsuit', 'NN'), ('.', '.'), ('Digital Downshift', 'NNP'), ('Walmart', 'NNP'), ('online expansion', 'NNI'), ('decelerated', 'VBD'), ('latest', 'JJT'), ('quarter', 'NN'), ('Source', 'NNP'), (':', ':'), ('Walmart', 'NNP'), ('Note', 'VB'), (':', ':'), ('Fiscal', 'NNP'), ('year ends', 'NNI'), ('Jan.', 'NNP'), ('31', 'CD'), ('Along', 'IN'), ('2016 acquisition', 'NNI'), ('Jet.com', 'NNP'), (',', ','), ('rollout two-day', 'NNI'), ('free delivery', 'NNI'), ('recruitment sought-after', 'NNI'), ('web engineers', 'NNI'), (',', ','), ('Walmart', 'NNP'), ('strategy', 'NN'), ('also', 'RB'), ('includes', 'VBZ'), ('building marketplace', 'NNI'), ('site', 'NN'), (',', ','), ('third-party vendors', 'NNI'), ('sell', 'VB'), ('wares', 'NN'), ('pay', 'VB'), ('retailer fee', 'NNI'), (',', ','), ('usually', 'RB'), ('around', 'RB'), ('15', 'CD'), ('percent', 'NN'), ('.', '.'), ('number products', 'NNI'), ('available', 'JJ'), ('Walmart', 'NNP'), ('site', 'NN'), ('soared', 'VBD'), (',', ','), ('7 million', 'CD'), ('2015', 'NN'), ('75 million', 'CD'), ('February', 'NNP'), ('.', '.'), ('Walmart', 'NNP'), ('overlooked', 'VBN'), ('basic internal', 'JJ'), ('controls quest', 'NNI'), ('growth', 'NN'), (',', ','), ('according', 'IN'), ('lawsuit', 'NN'), ('.', '.'), ('example', 'NN'), (',', ','), ('Walmart', 'NNP'), ('systems', 'NN'), ('sometimes', 'RB'), ('failed', 'VBD'), ('label marketplace', 'NNI'), ('items', 'NN'), ('right product', 'NNI'), ('category', 'NN'), (',', ','), ('resulting', 'VBG'), ('vendors', 'NN'), ('paying', 'VBG'), ('higher', 'JJR'), ('commissions', 'NN'), ('.', '.'), ('company', 'NN'), ('also', 'RB'), ('failed', 'VBD'), ('process customer', 'NNI'), ('returns items', 'NNI'), ('totaling', 'VBG'), ('$', 'NN'), ('7 million', 'CD'), (',', ','), ('resulted', 'VBD'), ('reporting', 'VBG'), ('inflated', 'VBD'), ('sales', 'NN'), (',', ','), ('Huynh said', 'NNP'), ('.', '.'), ('Huynh', 'NNP'), (',', ','), ('native', 'NN'), ('Vietnam', 'NNP'), (',', ','), ('joined', 'VBD'), ('Walmart', 'NNP'), ('2014', 'NN'), ('Amazon', 'NNP'), ('.', '.'), ('claims', 'NN'), ('warned', 'VBN'), ('superiors company', 'NNI'), ('ethics department', 'NNI'), ('Walmart', 'NNP'), ('properly address', 'NNP'), ('issues', 'NN'), (',', ','), ('failure', 'NN'), ('could', 'MD'), ('serious long-term', 'NNI'), ('implications', 'NN'), ('critically', 'RB'), ('important e-commerce', 'NNI'), ('business.', 'NN'), ('said', 'VBD'), ('told', 'VBD'), ('stop', 'VB'), ('raising', 'VBG'), ('concerns', 'VBZ'), (',', ','), ('eventually', 'RB'), ('brought', 'VBD'), ('U.S.', 'NNP'), ('e-commerce chief', 'NNI'), ('Marc Lore', 'NNP'), ('early 2017', 'NNI'), (',', ','), ('abruptly', 'RB'), ('terminated', 'VBN'), ('part broader', 'NNI'), ('workforce reduction', 'NNI'), ('took', 'VBD'), ('place', 'NN'), ('later', 'RBR'), ('month', 'NN'), ('.', '.'), ('Huynh', 'NNP'), ('sued', 'VBN'), ('accusing', 'VBG'), ('Walmart', 'NNP'), ('whistle-blower retaliation', 'NNI'), ('violation', 'NN'), ('Sarbanes-Oxley', 'NNP'), ('Act', 'NN'), (',', ','), ('retaliation violation', 'NNI'), ('California', 'NNP'), ('labor code', 'NNI'), (',', ','), ('failure', 'NN'), ('prevent', 'VB'), ('discrimination', 'NN'), (',', ','), ('wrongful termination', 'NNI'), ('.', '.'), ('seeks', 'VBZ'), ('unspecified damages', 'NNI'), ('lost', 'VBD'), ('wages', 'NN'), ('economic losses', 'NNI'), (',', ','), ('special damages', 'NNI'), ('punitive damages', 'NNI'), ('.', '.'), ('case', 'NN'), ('Huynh', 'NNP'), ('vs.', 'IN'), ('Wal-Mart Stores', 'NNP'), ('Inc.', 'VBN'), (',', ','), ('18-cv-01631', 'NN'), (',', ','), ('U.S.', 'NNP'), ('District Court', 'NNI'), (',', ','), ('Northern District', 'NNI'), ('California', 'NNP'), ('(', '('), ('San Francisco', 'NNP'), (')', ')'), ('.', '.')]\n",
      "[('race catch', 'NNI'), ('Amazon.com', 'NNP'), ('Inc.', 'VBN'), ('online', 'NN'), ('retailing', 'VBG'), (',', ','), ('Walmart', 'NNP'), ('Inc.', 'VBN'), ('issued', 'VBN'), ('misleading', 'VBG'), ('e-commerce results', 'NNI'), ('fired', 'VBD'), ('executive', 'NN'), ('complained', 'VBD'), ('company', 'NN'), ('breaking', 'VBG'), ('law', 'NN'), (',', ','), ('according', 'IN'), ('whistle-blower lawsuit', 'NNI'), ('.', '.'), ('Walmart', 'NNP'), ('shares', 'NN'), ('fell', 'VBD'), ('much', 'AP'), ('2', 'CD'), ('percent', 'NN'), ('.', '.'), ('Tri Huynh', 'NNP'), (',', ','), ('former', 'AP'), ('director business development', 'NNI'), ('Walmart', 'NNP'), (',', ','), ('claims', 'NN'), ('terminated', 'VBN'), ('false pretenses', 'NNI'), ('repeatedly', 'RB'), ('raising', 'VBG'), ('concerns', 'VBZ'), ('company', 'NN'), ('overly', 'QL'), ('aggressive', 'JJ'), ('push', 'VB'), ('show meteoric', 'NNI'), ('growth e-commerce business', 'NNI'), ('means', 'VBZ'), ('possible', 'JJ'), ('--', '--'), ('even', 'RB'), (',', ','), ('illegitimate ones. Chief', 'NNI'), ('Executive Officer', 'NNI'), ('Doug McMillon', 'NNP'), (',', ','), ('Walmart invested', 'NNP'), ('billions catch', 'NNI'), ('Amazon', 'NNP'), ('e-commerce past years', 'NNI'), (',', ','), ('last', 'AP'), ('year', 'NN'), ('enjoyed', 'VBN'), ('quarterly online', 'NNP'), ('sales growth rates', 'NNI'), ('surpassing', 'VBG'), ('50', 'CD'), ('percent', 'NN'), (',', ','), ('well', 'QL'), ('above', 'IN'), ('peers', 'NN'), ('include', 'VB'), ('Target', 'NNP'), ('Corp.', 'NN'), ('Best', 'JJT'), ('Buy', 'NNP'), ('Co.', 'NN'), ('Huynh', 'NNP'), ('claims', 'NN'), ('Walmart mislabeled', 'NNP'), ('products third-party vendors', 'NNI'), ('received', 'VBN'), ('lower', 'JJR'), ('commissions', 'NN'), (',', ','), ('failed', 'VBD'), ('process customer returns', 'NNI'), (',', ','), ('allowed', 'VBD'), ('offensive items', 'NNI'), ('onto', 'IN'), ('site', 'NN'), ('.', '.'), ('Huynh', 'NNP'), ('dismissal', 'NN'), ('January', 'NNP'), ('2017', 'NN'), ('--', '--'), ('day retail-industry publication', 'NNI'), ('singled', 'VBD'), ('one', 'CD'), ('sector', 'NN'), ('rising', 'VBG'), ('stars', 'NN'), ('--', '--'), ('retaliation warning', 'NNI'), ('senior executives misdeeds', 'NNI'), (',', ','), ('said', 'VBD'), ('lawsuit', 'NN'), (',', ','), ('filed', 'VBD'), ('Thursday', 'NR'), ('employment litigation attorney', 'NNI'), ('David M.', 'NNP'), ('deRubertis', 'NN'), ('San Francisco', 'NNP'), ('federal court', 'NNI'), ('.', '.'), ('Wal-Mart sacrificed betrayed', 'NNP'), ('founder key', 'NNI'), ('principles integrity honesty', 'NNI'), (',', ','), ('pushing', 'VBG'), ('core values', 'NNI'), ('aside rush', 'NNP'), ('win', 'VB'), ('e-commerce war', 'NNI'), ('costs', 'VBZ'), (',', ','), ('70-page complaint', 'NNI'), ('says', 'VBZ'), (',', ','), ('referring', 'VBG'), ('founder', 'NN'), ('Sam Walton', 'NNP'), ('.', '.'), (',', ','), ('realized', 'VBD'), ('must', 'MD'), ('silence whistle-blower', 'NNI'), ('spoke', 'VBD'), ('against', 'IN'), ('‘', 'NN'), ('win', 'VB'), ('costs approach.', 'NNI'), ('Walmart', 'NNP'), ('officials weren', 'NNI'), ('immediately', 'RB'), ('available comment lawsuit', 'NNI'), ('.', '.'), ('Digital Downshift Walmart', 'NNP'), ('online expansion', 'NNI'), ('decelerated', 'VBD'), ('latest', 'JJT'), ('quarter', 'NN'), ('Source', 'NNP'), (':', ':'), ('Walmart', 'NNP'), ('Note', 'VB'), (':', ':'), ('Fiscal', 'NNP'), ('year ends', 'NNI'), ('Jan.', 'NNP'), ('31', 'CD'), ('Along', 'IN'), ('2016 acquisition', 'NNI'), ('Jet.com', 'NNP'), (',', ','), ('rollout two-day', 'NNI'), ('free delivery', 'NNI'), ('recruitment sought-after', 'NNI'), ('web engineers', 'NNI'), (',', ','), ('Walmart', 'NNP'), ('strategy', 'NN'), ('also', 'RB'), ('includes', 'VBZ'), ('building marketplace site', 'NNI'), (',', ','), ('third-party vendors', 'NNI'), ('sell', 'VB'), ('wares', 'NN'), ('pay', 'VB'), ('retailer fee', 'NNI'), (',', ','), ('usually', 'RB'), ('around', 'RB'), ('15', 'CD'), ('percent', 'NN'), ('.', '.'), ('number products', 'NNI'), ('available', 'JJ'), ('Walmart', 'NNP'), ('site', 'NN'), ('soared', 'VBD'), (',', ','), ('7 million', 'CD'), ('2015', 'NN'), ('75 million', 'CD'), ('February', 'NNP'), ('.', '.'), ('Walmart', 'NNP'), ('overlooked', 'VBN'), ('basic internal', 'JJ'), ('controls quest growth', 'NNI'), (',', ','), ('according', 'IN'), ('lawsuit', 'NN'), ('.', '.'), ('example', 'NN'), (',', ','), ('Walmart', 'NNP'), ('systems', 'NN'), ('sometimes', 'RB'), ('failed', 'VBD'), ('label marketplace items', 'NNI'), ('right product category', 'NNI'), (',', ','), ('resulting', 'VBG'), ('vendors', 'NN'), ('paying', 'VBG'), ('higher', 'JJR'), ('commissions', 'NN'), ('.', '.'), ('company', 'NN'), ('also', 'RB'), ('failed', 'VBD'), ('process customer', 'NNI'), ('returns items', 'NNI'), ('totaling', 'VBG'), ('$', 'NN'), ('7 million', 'CD'), (',', ','), ('resulted', 'VBD'), ('reporting', 'VBG'), ('inflated', 'VBD'), ('sales', 'NN'), (',', ','), ('Huynh said', 'NNP'), ('.', '.'), ('Huynh', 'NNP'), (',', ','), ('native', 'NN'), ('Vietnam', 'NNP'), (',', ','), ('joined', 'VBD'), ('Walmart', 'NNP'), ('2014', 'NN'), ('Amazon', 'NNP'), ('.', '.'), ('claims', 'NN'), ('warned', 'VBN'), ('superiors company', 'NNI'), ('ethics department', 'NNI'), ('Walmart properly address', 'NNP'), ('issues', 'NN'), (',', ','), ('failure', 'NN'), ('could', 'MD'), ('serious long-term implications', 'NNI'), ('critically', 'RB'), ('important e-commerce business.', 'NNI'), ('said', 'VBD'), ('told', 'VBD'), ('stop', 'VB'), ('raising', 'VBG'), ('concerns', 'VBZ'), (',', ','), ('eventually', 'RB'), ('brought', 'VBD'), ('U.S.', 'NNP'), ('e-commerce chief', 'NNI'), ('Marc Lore', 'NNP'), ('early 2017', 'NNI'), (',', ','), ('abruptly', 'RB'), ('terminated', 'VBN'), ('part broader', 'NNI'), ('workforce reduction', 'NNI'), ('took', 'VBD'), ('place', 'NN'), ('later', 'RBR'), ('month', 'NN'), ('.', '.'), ('Huynh', 'NNP'), ('sued', 'VBN'), ('accusing', 'VBG'), ('Walmart', 'NNP'), ('whistle-blower retaliation violation', 'NNI'), ('Sarbanes-Oxley', 'NNP'), ('Act', 'NN'), (',', ','), ('retaliation violation', 'NNI'), ('California', 'NNP'), ('labor code', 'NNI'), (',', ','), ('failure', 'NN'), ('prevent', 'VB'), ('discrimination', 'NN'), (',', ','), ('wrongful termination', 'NNI'), ('.', '.'), ('seeks', 'VBZ'), ('unspecified damages', 'NNI'), ('lost', 'VBD'), ('wages', 'NN'), ('economic losses', 'NNI'), (',', ','), ('special damages', 'NNI'), ('punitive damages', 'NNI'), ('.', '.'), ('case', 'NN'), ('Huynh', 'NNP'), ('vs.', 'IN'), ('Wal-Mart Stores', 'NNP'), ('Inc.', 'VBN'), (',', ','), ('18-cv-01631', 'NN'), (',', ','), ('U.S.', 'NNP'), ('District Court', 'NNI'), (',', ','), ('Northern District', 'NNI'), ('California', 'NNP'), ('(', '('), ('San Francisco', 'NNP'), (')', ')'), ('.', '.')]\n"
     ]
    }
   ],
   "source": [
    "context = get_info(content)"
   ]
  },
  {
   "cell_type": "code",
   "execution_count": 266,
   "metadata": {},
   "outputs": [
    {
     "data": {
      "text/plain": [
       "\"In its race to catch Amazon.com Inc. in online retailing, Walmart Inc. issued misleading e-commerce results and fired an executive who complained the company was breaking the law, according to a whistle-blower lawsuit. Walmart shares fell as much as 2 percent. Tri Huynh, a former director of business development at Walmart, claims he was terminated “under false pretenses” after repeatedly raising concerns about the company’s “overly aggressive push to show meteoric growth in its e-commerce business by any means possible -- even, illegitimate ones.” Under Chief Executive Officer Doug McMillon, Walmart has invested billions to catch up with Amazon in e-commerce over the past few years, and last year enjoyed quarterly online sales growth rates surpassing 50 percent, well above peers that include Target Corp. and Best Buy Co. Huynh claims Walmart mislabeled products so that some third-party vendors received lower commissions, failed to process customer returns, and allowed offensive items onto the site. Huynh’s dismissal in January 2017 -- just a day after a retail-industry publication singled him out as one of the sector’s rising stars -- was in retaliation for warning senior executives about the misdeeds, he said in the lawsuit, filed Thursday by employment litigation attorney David M. deRubertis in San Francisco federal court. “Wal-Mart sacrificed and betrayed its founder’s key principles of integrity and honesty, pushing those core values aside in its rush to win the e-commerce war at all costs,” the 70-page complaint says, referring to founder Sam Walton. “In doing this, it realized it must silence any whistle-blower who spoke up against its ‘win at all costs’ approach.” Walmart officials weren’t immediately available for comment on the lawsuit. Digital Downshift Walmart's online expansion decelerated in its latest quarter Source: Walmart Note: Fiscal year ends Jan. 31 Along with the 2016 acquisition of Jet.com, the rollout of two-day free delivery and the recruitment of sought-after web engineers, Walmart’s strategy also includes building up its marketplace site, where third-party vendors sell their wares and pay the retailer a fee, usually around 15 percent. The number of products available on Walmart’s site has soared, from 7 million in 2015 to about 75 million as of February. Walmart overlooked basic internal controls in its quest for growth, according to the lawsuit. For example, Walmart’s systems sometimes failed to label marketplace items in the right product category, resulting in some vendors paying higher commissions than they should have. The company also failed to process customer returns on items totaling more than $7 million, which resulted in reporting inflated sales, Huynh said. Huynh, a native of Vietnam, joined Walmart in 2014 from Amazon. He claims he warned his superiors and the company’s ethics department that if “Walmart did not properly address these issues, its failure to do so could have serious long-term implications for its critically important e-commerce business.” He said he was told to stop raising such concerns, and when he eventually brought them to U.S. e-commerce chief Marc Lore in early 2017, he was “abruptly terminated” as part of a broader workforce reduction that took place later that month. Huynh sued accusing Walmart of whistle-blower retaliation in violation of the Sarbanes-Oxley Act, retaliation in violation of California labor code, failure to prevent discrimination, and wrongful termination. He seeks unspecified damages for lost wages and economic losses, special damages and punitive damages. The case is Huynh vs. Wal-Mart Stores Inc., 18-cv-01631, U.S. District Court, Northern District of California (San Francisco).\""
      ]
     },
     "execution_count": 266,
     "metadata": {},
     "output_type": "execute_result"
    }
   ],
   "source": [
    "content"
   ]
  },
  {
   "cell_type": "code",
   "execution_count": 267,
   "metadata": {},
   "outputs": [
    {
     "name": "stdout",
     "output_type": "stream",
     "text": [
      "['race catch', 'Amazon.com', 'Walmart', 'e-commerce results', 'whistle-blower lawsuit', 'Walmart', 'Tri Huynh', 'director business development', 'Walmart', 'false pretenses', 'show meteoric', 'growth e-commerce business', 'illegitimate ones. Chief', 'Executive Officer', 'Doug McMillon', 'Walmart invested', 'billions catch', 'Amazon', 'e-commerce past years', 'quarterly online', 'sales growth rates', 'Target', 'Buy', 'Huynh', 'Walmart mislabeled', 'products third-party vendors', 'process customer returns', 'offensive items', 'Huynh', 'January', 'day retail-industry publication', 'retaliation warning', 'senior executives misdeeds', 'employment litigation attorney', 'David M.', 'San Francisco', 'federal court', 'Wal-Mart sacrificed betrayed', 'founder key', 'principles integrity honesty', 'core values', 'aside rush', 'e-commerce war', '70-page complaint', 'Sam Walton', 'silence whistle-blower', 'costs approach.', 'Walmart', 'officials weren', 'available comment lawsuit', 'Digital Downshift Walmart', 'online expansion', 'Source', 'Walmart', 'Fiscal', 'year ends', 'Jan.', '2016 acquisition', 'Jet.com', 'rollout two-day', 'free delivery', 'recruitment sought-after', 'web engineers', 'Walmart', 'building marketplace site', 'third-party vendors', 'retailer fee', 'number products', 'Walmart', 'February', 'Walmart', 'controls quest growth', 'Walmart', 'label marketplace items', 'right product category', 'process customer', 'returns items', 'Huynh said', 'Huynh', 'Vietnam', 'Walmart', 'Amazon', 'superiors company', 'ethics department', 'Walmart properly address', 'serious long-term implications', 'important e-commerce business.', 'U.S.', 'e-commerce chief', 'Marc Lore', 'early 2017', 'part broader', 'workforce reduction', 'Huynh', 'Walmart', 'whistle-blower retaliation violation', 'Sarbanes-Oxley', 'retaliation violation', 'California', 'labor code', 'wrongful termination', 'unspecified damages', 'economic losses', 'special damages', 'punitive damages', 'Huynh', 'Wal-Mart Stores', 'U.S.', 'District Court', 'Northern District', 'California', 'San Francisco']\n"
     ]
    }
   ],
   "source": [
    "print([term for term in context if not (''in term ==True)])"
   ]
  },
  {
   "cell_type": "code",
   "execution_count": 268,
   "metadata": {},
   "outputs": [
    {
     "name": "stdout",
     "output_type": "stream",
     "text": [
      "['race catch', 'e-commerce results', 'whistle-blower lawsuit', 'Tri Huynh', 'director business development', 'false pretenses', 'show meteoric', 'growth e-commerce business', 'illegitimate ones. Chief', 'Executive Officer', 'Doug McMillon', 'Walmart invested', 'billions catch', 'e-commerce past years', 'quarterly online', 'sales growth rates', 'Walmart mislabeled', 'products third-party vendors', 'process customer returns', 'offensive items', 'day retail-industry publication', 'retaliation warning', 'senior executives misdeeds', 'employment litigation attorney', 'David M.', 'San Francisco', 'federal court', 'Wal-Mart sacrificed betrayed', 'founder key', 'principles integrity honesty', 'core values', 'aside rush', 'e-commerce war', '70-page complaint', 'Sam Walton', 'silence whistle-blower', 'costs approach.', 'officials weren', 'available comment lawsuit', 'Digital Downshift Walmart', 'online expansion', 'year ends', '2016 acquisition', 'rollout two-day', 'free delivery', 'recruitment sought-after', 'web engineers', 'building marketplace site', 'third-party vendors', 'retailer fee', 'number products', 'controls quest growth', 'label marketplace items', 'right product category', 'process customer', 'returns items', 'Huynh said', 'superiors company', 'ethics department', 'Walmart properly address', 'serious long-term implications', 'important e-commerce business.', 'e-commerce chief', 'Marc Lore', 'early 2017', 'part broader', 'workforce reduction', 'whistle-blower retaliation violation', 'retaliation violation', 'labor code', 'wrongful termination', 'unspecified damages', 'economic losses', 'special damages', 'punitive damages', 'Wal-Mart Stores', 'District Court', 'Northern District', 'San Francisco']\n"
     ]
    }
   ],
   "source": [
    "context = [term for term in context if len(term.split()) > 1 and not (''in term ==True)]\n",
    "\n",
    "print(context)"
   ]
  },
  {
   "cell_type": "code",
   "execution_count": 127,
   "metadata": {},
   "outputs": [],
   "source": [
    "def countWords(wordList):\n",
    "    from collections import Counter\n",
    "    return dict(Counter(wordList))"
   ]
  },
  {
   "cell_type": "code",
   "execution_count": 262,
   "metadata": {},
   "outputs": [],
   "source": [
    "wordCount = countWords(context)"
   ]
  },
  {
   "cell_type": "code",
   "execution_count": 263,
   "metadata": {},
   "outputs": [
    {
     "data": {
      "text/plain": [
       "{'thin air': 1,\n",
       " 'loyal customers': 1,\n",
       " 'rivals jockey': 1,\n",
       " 'deal-hungry online shoppers': 1,\n",
       " 'Retailers Target': 1,\n",
       " 'special promotions': 1,\n",
       " 'Amazon Prime': 4,\n",
       " 'bid distance event': 1,\n",
       " 'deals merchandise': 1,\n",
       " 'membership fee': 1,\n",
       " 'carve slice': 1,\n",
       " 'summer sale': 1,\n",
       " 'Internet Retailer': 1,\n",
       " '2018 figure': 1,\n",
       " 'tremendous opportunity retailers': 1,\n",
       " 'David Bassuk': 1,\n",
       " 'global co-head': 1,\n",
       " 'retail practice consultant': 1,\n",
       " 'firm shows': 1,\n",
       " 'plan shop': 1,\n",
       " 'else besides Amazon Prime': 1,\n",
       " 'Nearly shoppers': 1,\n",
       " 'pre-purchase research': 1,\n",
       " 'social media': 1,\n",
       " 'creates opportunity retailers': 1,\n",
       " 'deep discounts freebies': 1,\n",
       " 'well discount': 1,\n",
       " 'limited-time sale': 1,\n",
       " 'also highlight': 1,\n",
       " 'lack membership fees': 1,\n",
       " 'prime members': 1,\n",
       " 'access benefits': 1,\n",
       " 'free shipping': 1,\n",
       " 'items access': 1,\n",
       " 'music media libraries': 1,\n",
       " 'Enticing Customers': 1,\n",
       " 'number increase year': 1,\n",
       " 'free same-day': 1,\n",
       " 'delivery customers': 1,\n",
       " 'prices men': 1,\n",
       " 'suits sport coats': 1,\n",
       " 'Google hopped': 1,\n",
       " 'assistant $': 1,\n",
       " 'July turned': 1,\n",
       " 'season retailers': 1,\n",
       " 'vie shoppers attention': 1,\n",
       " 'share wallet': 1,\n",
       " 'Steve Barr': 1,\n",
       " 'consumer markets leader': 1,\n",
       " 'digital wallets': 1,\n",
       " 'fatter thanks': 1,\n",
       " 'tax code': 1,\n",
       " 'fuel prices': 1,\n",
       " 'Comfort Index': 1,\n",
       " '17-year high': 1,\n",
       " 'thanks upbeat': 1,\n",
       " 'personal finances': 1,\n",
       " 'segment dovetails': 1,\n",
       " 'Growing Popularity Shoppers': 1,\n",
       " 'collective $ 3.4': 1,\n",
       " 'Day promotion': 1,\n",
       " 'percent year': 1,\n",
       " 'group numbers': 1,\n",
       " 'AlixPartners found': 1,\n",
       " 're mood': 1,\n",
       " 'conversion rates': 1,\n",
       " 'e-commerce metric measures': 1,\n",
       " 'lead transaction': 1,\n",
       " 'Amazon Top U.S': 1,\n",
       " 'QuickTake Amazon': 1,\n",
       " 'members days': 1,\n",
       " 'annual fee': 1,\n",
       " '$ 119 $': 1,\n",
       " 'retailer eBay': 1,\n",
       " 'club offering week': 1,\n",
       " 'exclusive deals beginning': 1,\n",
       " 'hundreds brands': 1,\n",
       " 'Samsung Adidas': 1,\n",
       " 'Day shoppers': 1,\n",
       " 'Walmart Target': 2,\n",
       " 'popular destinations': 1,\n",
       " 'monitors social-media': 1,\n",
       " 'feedback brands': 1,\n",
       " 'Day shopper': 1,\n",
       " 'rival key': 1,\n",
       " 'advantage holiday': 1,\n",
       " 'season rolls': 1,\n",
       " 'brand loyalty': 1,\n",
       " 'percent online spending': 1,\n",
       " 'important retailers': 1,\n",
       " 'Siddharth Kulkarni': 1,\n",
       " 'Adobe Digital Insights': 1,\n",
       " 'top mind e-commerce': 1}"
      ]
     },
     "execution_count": 263,
     "metadata": {},
     "output_type": "execute_result"
    }
   ],
   "source": [
    "wordCount"
   ]
  },
  {
   "cell_type": "code",
   "execution_count": null,
   "metadata": {},
   "outputs": [],
   "source": []
  },
  {
   "cell_type": "code",
   "execution_count": null,
   "metadata": {},
   "outputs": [],
   "source": []
  }
 ],
 "metadata": {
  "kernelspec": {
   "display_name": "Python 3",
   "language": "python",
   "name": "python3"
  },
  "language_info": {
   "codemirror_mode": {
    "name": "ipython",
    "version": 3
   },
   "file_extension": ".py",
   "mimetype": "text/x-python",
   "name": "python",
   "nbconvert_exporter": "python",
   "pygments_lexer": "ipython3",
   "version": "3.6.5"
  }
 },
 "nbformat": 4,
 "nbformat_minor": 2
}
