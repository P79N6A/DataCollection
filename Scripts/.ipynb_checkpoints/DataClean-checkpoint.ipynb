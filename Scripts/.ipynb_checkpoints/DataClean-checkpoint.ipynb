{
 "cells": [
  {
   "cell_type": "markdown",
   "metadata": {},
   "source": [
    "### Jade's Changes\n",
    "\n",
    "<b>Current problems</b>:\n",
    "- amp;\n",
    "- div &gt; div.group &gt; p:first-child\"&gt; = video cnbc\n",
    "- no space between words separated by new line\n",
    "- Check out the companies making headlines before the belldiv gt divgroup gt pfirstchildgt\n",
    "- CNBC in general\n",
    "- shit at the end: To contact... blah blah\n",
    "- © CNBC is a USA TODAY content partner offering financial news and commentary. Its content is produced independently of USA TODAY.\n",
    "- Read or Share this story:\n",
    "- Read more here.\n",
    "- FT subscribers can click here to receive Market Forces every day by email.\n",
    "- Your feedback\n",
    "- I'd love to hear from you. You can email me on michael.mackenzie@ft.com and follow me on Twitter at @michaellachlan.\n",
    "- COPYRIGHT\n",
    "- © 2019 Bloomberg L.P\n",
    "- (Bloomberg)—\n",
    "- Anything with \"Transcript\" should be removed\n",
    "- Write to Sara Castellanos at sara.castellanos@wsj.com\n",
    "- Disclosure: Cramer's charitable trust owns shares of Johnson &amp; Johnson.\n",
    "- Questions for Cramer?Call Cramer: 1-800-743-CNBC\n",
    "- Want to take a deep dive into Cramer's world? Hit him up!Mad Money Twitter - Jim Cramer Twitter - Facebook - Instagram\n",
    "- Questions, comments, suggestions for the \"Mad Money\" website? madcap@cnbc.com\n",
    "- RPT-\n",
    "\n",
    "<b>Some rules I'm considering</b>:\n",
    "- Rid articles with less than 5 periods\n",
    "- Rid articles where writers say \"I\" a lot\n",
    "- ~~Rid anything with Jim Cramer~~ done\n",
    "- ~~Rid articles with title containing \"transcript\"~~ done\n",
    "- ~~Rid articles with title containing \"rpt\" (repeat)~~ done\n",
    "\n",
    "Within articles:\n",
    "- Periods between 2 numbers should be preserved\n",
    "- Remove any lines in articles that don't contain periods\n",
    "- Remove any lines that don't have more than 5 words\n",
    "- Remove sentences containing \"more here\"\n",
    "- Remove anything after ©\n",
    "- Remove any of the last 3 sentences if they contain \"questions, comments\" or \"email\" or \"write to\" or \"I\""
   ]
  },
  {
   "cell_type": "code",
   "execution_count": 1,
   "metadata": {},
   "outputs": [],
   "source": [
    "# imports\n",
    "import os\n",
    "from os import listdir\n",
    "from os.path import isfile, join\n",
    "from pathlib import Path\n",
    "import pandas as pd\n",
    "import re, string"
   ]
  },
  {
   "cell_type": "code",
   "execution_count": 2,
   "metadata": {},
   "outputs": [],
   "source": [
    "# Import articles\n",
    "def importData(filename):\n",
    "    \"\"\"\n",
    "    Import data into df\n",
    "    \"\"\"\n",
    "    #Import Labelled Data\n",
    "    DATA_DIR = \"Data\"\n",
    "    thispath = Path().absolute()\n",
    "    ARTICLES = os.path.join(DATA_DIR, filename)\n",
    "    \n",
    "    df = pd.read_excel(ARTICLES)\n",
    "\n",
    "    try:\n",
    "        df.head()\n",
    "    except:\n",
    "        pass\n",
    "    return df"
   ]
  },
  {
   "cell_type": "code",
   "execution_count": null,
   "metadata": {},
   "outputs": [],
   "source": [
    "from nltk.tokenize import sent_tokenize\n",
    "def getSentences(paragraph):\n",
    "    \"\"\"\n",
    "    Extracts sentences from a paragraph\n",
    "    :param paragraph: (str) paragraph text\n",
    "    :returns: list of sentences\n",
    "    \"\"\"\n",
    "    indexed = {}\n",
    "    sentenceList = tokenize.sent_tokenize(paragraph)\n",
    "    for i, s in enumerate(sentenceList):\n",
    "        indexed[i] = s\n",
    "    return sentenceList, indexed"
   ]
  },
  {
   "cell_type": "code",
   "execution_count": 48,
   "metadata": {},
   "outputs": [],
   "source": [
    "def DataClean(rawArticleDf):\n",
    "\n",
    "    #remove blanks (NaN)\n",
    "    cleanArticleDf = rawArticleDf.dropna(subset = ['content', 'title']) \n",
    "\n",
    "    #remove blocked articles without content\n",
    "    cleanArticleDf = cleanArticleDf[cleanArticleDf.content.str.contains('Your usage has been flagged', case=False) == False]\n",
    "    df = df[df.content.str.contains('To continue, please click the box', case=False) == False]\n",
    "    \n",
    "    # vidoes/ads/commentary\n",
    "    df = df[df.description.str.contains('The \"Fast Money\" traders share their first moves for the market open.', case=False) == False]\n",
    "    df = df[df.description.str.contains('stuff we think you', case=False) == False]\n",
    "    \n",
    "    #remove transcripts\n",
    "    df = df[df.title.str.contains('transcript', case=False) == False]\n",
    "    \n",
    "    #remove cramer\n",
    "    df = df[df.title.str.contains('cramer', case=False) == False]\n",
    "    \n",
    "    #remove duplicates\n",
    "    # by self-identified repeat\n",
    "    df = df[df.title.str.contains('rpt', case=False) == False]\n",
    "    # by title\n",
    "    df = df.drop_duplicates(subset=['title'], keep='first')\n",
    "    # by content\n",
    "    df = df.drop_duplicates(subset=['content'], keep='first')\n",
    "    # by decription\n",
    "    df = df.drop_duplicates(subset=['description'], keep='first')\n",
    "    \n",
    "    #remove punctuation, keep orig content\n",
    "    df['origContent'] = df['content']\n",
    "    pat_punctuation = re.compile('[^0-9a-zA-Z]+')\n",
    "    content= map(lambda x: punctuation.sub(' ', x), df['content'])\n",
    "    df['content']=list(content)\n",
    "    \n",
    "    #clean content, maintain punctuation\n",
    "    df['origContent'] = df['cleanedContent']    \n",
    "    #Replace new lines with spaces\n",
    "    pat_newLine = re.compile('\\s+')\n",
    "    df['cleanedContent'] = list(map(lambda x: stripNewLine.sub(' ', x), df['cleanedContent']))\n",
    "    \n",
    "    #Remove any lines that don't have more than 5 words\n",
    "    #Remove sentences containing \"more here\"\n",
    "    #Remove anything after ©\n",
    "    #Remove any of the last 3 sentences if they contain \"questions, comments\" or \"email\" or \"write to\" or \"I\"\n",
    "    \n",
    "        \n",
    "    \n",
    "    \n",
    "    ## Commented out excel interaction ##\n",
    "\"\"\"    \n",
    "    OUTPUT_DIR = os.path.join(DATA_DIR, 'cleanedArticles.xlsx')\n",
    "    writer = pd.ExcelWriter(OUTPUT_DIR)\n",
    "    df.to_excel(writer,'Sheet1')\n",
    "    writer.save()\n",
    "\"\"\"\n",
    "    return df"
   ]
  },
  {
   "cell_type": "code",
   "execution_count": 195,
   "metadata": {},
   "outputs": [],
   "source": [
    "df = importData(\"newsApiOutput.xlsx\")"
   ]
  },
  {
   "cell_type": "code",
   "execution_count": 196,
   "metadata": {},
   "outputs": [],
   "source": [
    "#remove blanks (NaN)\n",
    "df = df.dropna(subset = ['content', 'title']) \n",
    "\n",
    "#remove blocked articles without content\n",
    "df = df[df.content.str.contains('Your usage has been flagged', case=False) == False]\n",
    "df = df[df.content.str.contains('To continue, please click the box', case=False) == False]\n",
    "\n",
    "# vidoes/ads/commentary\n",
    "df = df[df.description.str.contains('The \"Fast Money\" traders share their first moves for the market open.', case=False) == False]\n",
    "df = df[df.description.str.contains('stuff we think you', case=False) == False]\n",
    "\n",
    "#remove transcripts\n",
    "df = df[df.title.str.contains('transcript', case=False) == False]\n",
    "\n",
    "#remove cramer\n",
    "df = df[df.title.str.contains('cramer', case=False) == False]\n",
    "\n",
    "#remove articles with less than words which is the lower end of the boxplot\n",
    "df = df[df['content'].str.split().str.len() > 300]\n",
    "\n",
    "#remove duplicates\n",
    "# by self-identified repeat\n",
    "df = df[df.title.str.contains('rpt', case=False) == False]\n",
    "# by title\n",
    "df = df.drop_duplicates(subset=['title'], keep='first')\n",
    "# by content\n",
    "df = df.drop_duplicates(subset=['content'], keep='first')\n",
    "# by decription\n",
    "df = df.drop_duplicates(subset=['description'], keep='first')\n",
    "\n",
    "df = df.reset_index(drop=True)\n",
    "\n",
    "# CLEAN ORIGINAL CONTENT\n",
    "#Remove nonsense sentence from original content pull\n",
    "for i in df.index:\n",
    "    article = df['origContent'].iloc[i].split('\\r\\n')\n",
    "    \n",
    "    # remove lines with no period\n",
    "    article[:] = [sentence for sentence in article if '.' in sentence]\n",
    "    # remove lines with less than 5 words\n",
    "    article[:] = [sentence for sentence in article if len(sentence.split())>5]\n",
    "    \n",
    "    # remove lines with terms that are associated with promotions or credits\n",
    "    article[:] = [sentence for sentence in article if not('get breaking news' in sentence.lower())]\n",
    "    article[:] = [sentence for sentence in article if not('click here' in sentence.lower())]\n",
    "    article[:] = [sentence for sentence in article if not('write to' in sentence.lower())]\n",
    "    article[:] = [sentence for sentence in article if not('subscribe' in sentence.lower())]\n",
    "    article[:] = [sentence for sentence in article if not('read more' in sentence.lower())]\n",
    "    article[:] = [sentence for sentence in article if not('read or share' in sentence.lower())]\n",
    "    article[:] = [sentence for sentence in article if not('reporting by' in sentence.lower())]\n",
    "    article[:] = [sentence for sentence in article if not('twitter, instagram' in sentence.lower())]\n",
    "    article[:] = [sentence for sentence in article if not('Photo' in sentence)]\n",
    "    article[:] = [sentence for sentence in article if not('copyright' in sentence.lower())]\n",
    "    article[:] = [sentence for sentence in article if not('©' in sentence.lower())]\n",
    "    \n",
    "    df.at[i,'origContent']='\\r\\n'.join(article)\n",
    "    \n",
    "#Remove videos from cnbc links\n",
    "pat_cnbcVid = re.compile('\\r\\ndiv &gt; div.group &gt; p:first-child\"&gt;\\r\\n')\n",
    "df['origContent'] = list(map(lambda x: pat_cnbcVid.sub('', x), df['origContent']))\n",
    "#Remove amp;\n",
    "pat_amp = re.compile('amp;')\n",
    "df['origContent'] = list(map(lambda x: pat_amp.sub('', x), df['origContent']))\n",
    "\n",
    "# CLEAN CONTENT FOR FEATURE SELECTION df['content'] AND CONTEXT EXTRACTION df['contentWithStops']\n",
    "df['origContent'] = df['content']  \n",
    "\n",
    "#Remove time\n",
    "pat_time = re.compile('[0-9]{0,2}:?[0-9]{1,2}\\s?[aApP]\\.?[mM]\\.?')\n",
    "df['content'] = list(map(lambda x: pat_time.sub(' ', x), df['content'].str.lower()))\n",
    "\n",
    "#Remove urls\n",
    "pat_url = re.compile('[a-z]+?[.]?[a-z]+?[.]?[a-z]+[.]?[\\/\\/]\\S+')\n",
    "df['content'] = list(map(lambda x: pat_url.sub('URL', x), df['content']))\n",
    "pat_https = re.compile('https://')\n",
    "df['content'] = list(map(lambda x: pat_https.sub('', x), df['content']))\n",
    "\n",
    "#Remove stopwords\n",
    "stopwords = [\n",
    "    # dates/times\n",
    "    \"january\", \"february\", \"march\", \"april\", \"may\", \"june\", \"july\", \"august\", \"september\", \"october\", \"november\", \"december\", \"jan\", \"feb\",\"mar\", \"apr\", \"jun\", \"jul\", \"aug\", \"oct\", \"nov\", \"dec\", \"monday\", \"tuesday\", \"wednesday\", \"thursday\", \"friday\", \"saturday\", \"sunday\", \"morning\", \"evening\",\"today\",\"pm\",\"am\",\n",
    "    # symbols that don't separate a sentence\n",
    "    '$','“','”','’','—', '-',\n",
    "    # specific article terms that are useless\n",
    "    \"read\", \"share\", \"file\", \"'s\", \"photo\", \"inc\", \"corp\", \"group\", \"inc\", \"corp\", \"source\", \"bloomberg\", \"cnbc\",\"cnbcs\", \"cnn\", \"reuters\",\"bbc\", \"published\", \"broadcast\",\"york\",\"msnbc\",\"ap\",\"said\",\n",
    "    # other useless terms\n",
    "    \"me\", \"my\", \"myself\", \"we\", \"our\", \"ours\", \"ourselves\", \"you\", \"your\", \"yours\", \"yourself\", \"yourselves\", \"he\", \"him\", \"his\", \"himself\", \"she\", \"her\", \"hers\", \"herself\", \"it\", \"its\", \"itself\", \"they\", \"them\", \"their\", \"theirs\", \"themselves\", \"what\", \"which\", \"who\", \"whom\", \"this\", \"that\", \"these\", \"those\", \"co\", \"inc\", \"com\", \"theyve\", \"theyre\", \"theres\", \"heres\", \"didnt\", \"wouldn\", \"couldn\", \"didn\",\"nbcuniversal\",\"according\", \"just\", \"us\", \"ll\", \"times\",\"yes\",\"such\", \"no\", \"nor\", \"not\", \"only\", \"own\", \"same\", \"so\", \"than\", \"too\", \"very\", \"just\", \"don\", \"now\", \"will\", \"wasn\", \"etc\", \"but\", \"hello\", \"welcome\", \"re\",\"my\",     \n",
    "    # etc\n",
    "    \"also\",\"us\",\"the\", \"a\", \"of\", \"have\", \"has\", \"had\", \"having\", \"hello\", \"welcome\", \"yeah\", \"wasn\", \"today\", \"etc\", \"ext\",\"definitely\", \"am\", \"is\", \"are\", \"was\", \"were\", \"be\", \"been\", \"being\", \"have\", \"has\", \"had\", \"having\", \"do\", \"does\", \"did\", \"doing\", \"a\", \"an\", \"the\", \"and\", \"but\", \"if\", \"or\", \"because\", \"as\", \"while\", \"of\", \"at\", \"by\", \"for\", \"about\", \"into\", \"through\", \"during\", \"before\", \"after\", \"to\", \"from\", \"in\", \"out\", \"on\", \"off\", \"over\", \"under\", \"again\", \"further\", \"then\", \"once\", \"here\", \"there\", \"when\", \"where\", \"why\", \"how\", \"all\", \"any\", \"both\", \"each\", \"few\", \"more\", \"most\", \"other\", \"some\", \"such\", \"no\", \"nor\", \"not\", \"only\", \"own\", \"same\", \"so\", \"than\", \"too\", \"very\", \"just\", \"don\", \"now\", \"will\"\n",
    "]\n",
    "pat_stopwords = re.compile(r'\\b(' + r'|'.join(stopwords) + r')\\b\\s*')\n",
    "df['content'] = list(map(lambda x: pat_stopwords.sub(' ', x), df['content'].str.lower()))\n",
    "\n",
    "#Remove single character words\n",
    "pat_charLim = re.compile('\\s[a-zA-Z]\\s')\n",
    "df['content'] = list(map(lambda x: pat_charLim.sub(' ', x), df['content']))\n",
    "\n",
    "#Remove characters that don't separate a sentence or aren't $ signs\n",
    "# FOR context extraction\n",
    "pat_nonStops = re.compile('[^\\.\\?!,;\\$0-9a-zA-Z]+')\n",
    "df['contentWithStops'] = list(map(lambda x: pat_nonStops.sub(' ', x), df['content']))\n",
    "\n",
    "#Remove punctuation \n",
    "# FOR feature selection/encoding\n",
    "pat_punctuation = re.compile('[^a-zA-Z]+')\n",
    "df['content'] = list(map(lambda x: pat_punctuation.sub(' ', x), df['content']))\n",
    "\n",
    "#Remove single characters\n",
    "df['content'] = list(map(lambda x: pat_charLim.sub(' ', x), df['content']))"
   ]
  },
  {
   "cell_type": "code",
   "execution_count": 206,
   "metadata": {},
   "outputs": [
    {
     "data": {
      "text/plain": [
       "'Amazon has shown that it is \"antithetical\" to New York values, and the company should not be allowed to build its second headquarters in Queens until it changes its ways, City Councilman Jimmy Van Bramer told CNBC on Monday.\\r\\ndiv &gt; div.group &gt; p:first-child\"&gt;\\r\\nBramer, deputy leader of the 51-member council, said one reason he is against the HQ2 deal is because of the online shopping behemoth\\'s stance on labor unions.\\r\\n\"They remarkably came to the City Council last week and declared not only would they not remain neutral when it came to efforts of their employees ... to organize but that they would actually fight to crush any effort of their employees to unionize,\" the Queens borough representative said on \"Squawk on the Street.\" \"This is a union town. I grew up in a union family. We\\'ve got to stand up for our values there.\"\\r\\nBramer, a Democrat, also called out Amazon\\'s reported ties to federal Immigration and Customs Enforcement agency.\\r\\nSome Amazon shareholders have urged the tech giant to stop selling Rekognition, its facial recognition technology, to some government agencies. They have also said that Amazon is planning to pitch the service to ICE.\\r\\n\"Obviously we\\'re a sanctuary city. The mayor and all of us have declared that we want to be a safe haven for all immigrants, including the undocumented,\" Bramer said. \"Amazon refuses to budge on that issue.\"\\r\\nThe company has defended selling Rekognition to law enforcement.\\r\\nBramer believes Gov. Andrew Cuomo and Mayor Bill de Blasio, also Democrats, \"botched\" the deal, which includes roughly $3 billion in tax incentives, to lure the Seattle-based company\\'s investment. The plan is to bring part of its second headquarters and 25,000 jobs to the Long Island City neighborhood in Queens.\\r\\n\"All of those reasons and more lead us to fight this deal because at the end of the day, it\\'s a bad deal for New York,\" Bramer said.\\r\\nThe Washington Post reported on Friday that Amazon is reconsidering the New York development due to local opposition.\\r\\nIn response to the report, Cuomo said \"we have to make Amazon a reality\" in New York and that \"it is irresponsible to allow political opposition to overcome sound government policy.\" He equated such opposition to \"malpractice\" because the headquarters would create so many jobs in the city.\\r\\nDe Blasio\\'s office has defended tax incentives offered by the city for the project, saying it could generate $12.5 billion in future tax revenues.\\r\\nAmazon did not immediately respond to a request for comment.'"
      ]
     },
     "execution_count": 206,
     "metadata": {},
     "output_type": "execute_result"
    }
   ],
   "source": [
    "df['origContent'].iloc[4]"
   ]
  },
  {
   "cell_type": "code",
   "execution_count": 207,
   "metadata": {},
   "outputs": [
    {
     "data": {
      "text/plain": [
       "'amazon shown antithetical new values company should allowed build second headquarters queens until changes ways city councilman jimmy van bramer told bramer deputy leader member council one reason against hq deal online shopping behemoth stance labor unions remarkably came city council last week declared would remain neutral came efforts employees organize would actually fight crush effort employees unionize queens borough representative squawk street union town grew up union family ve got stand up values bramer democrat called amazon reported ties federal immigration customs enforcement agency amazon shareholders urged tech giant stop selling rekognition facial recognition technology government agencies amazon planning pitch service ice obviously sanctuary city mayor declared want safe haven immigrants including undocumented bramer amazon refuses budge issue company defended selling rekognition law enforcement bramer believes gov andrew cuomo mayor bill de blasio democrats botched deal includes roughly billion tax incentives lure seattle based company investment plan bring part second headquarters jobs long island city neighborhood queens reasons lead fight deal end day bad deal new bramer washington post reported amazon reconsidering new development due local opposition response report cuomo make amazon reality new irresponsible allow political opposition overcome sound government policy equated opposition malpractice headquarters would create many jobs city de blasio office defended tax incentives offered city project saying could generate billion future tax revenues amazon immediately respond request comment '"
      ]
     },
     "execution_count": 207,
     "metadata": {},
     "output_type": "execute_result"
    }
   ],
   "source": [
    "df['content'].iloc[4]"
   ]
  },
  {
   "cell_type": "code",
   "execution_count": 208,
   "metadata": {},
   "outputs": [
    {
     "data": {
      "text/plain": [
       "'amazon shown antithetical new values, company should allowed build second headquarters queens until changes ways, city councilman jimmy van bramer told . bramer, deputy leader 51 member council, one reason against hq2 deal online shopping behemoth stance labor unions. remarkably came city council last week declared would remain neutral came efforts employees ... organize would actually fight crush effort employees unionize, queens borough representative squawk street. union town. grew up union family. ve got stand up values . bramer, democrat, called amazon reported ties federal immigration customs enforcement agency. amazon shareholders urged tech giant stop selling rekognition, facial recognition technology, government agencies. amazon planning pitch service ice. obviously sanctuary city. mayor declared want safe haven immigrants, including undocumented, bramer . amazon refuses budge issue. company defended selling rekognition law enforcement. bramer believes gov. andrew cuomo mayor bill de blasio, democrats, botched deal, includes roughly $3 billion tax incentives, lure seattle based company investment. plan bring part second headquarters 25,000 jobs long island city neighborhood queens. reasons lead fight deal end day, bad deal new , bramer . washington post reported amazon reconsidering new development due local opposition. response report, cuomo make amazon reality new irresponsible allow political opposition overcome sound government policy. equated opposition malpractice headquarters would create many jobs city. de blasio office defended tax incentives offered city project, saying could generate $12.5 billion future tax revenues. amazon immediately respond request comment.'"
      ]
     },
     "execution_count": 208,
     "metadata": {},
     "output_type": "execute_result"
    }
   ],
   "source": [
    "df['cleanContent'].iloc[4]"
   ]
  },
  {
   "cell_type": "code",
   "execution_count": 265,
   "metadata": {},
   "outputs": [],
   "source": [
    "df = df[df['content'].str.split().str.len() > 500]"
   ]
  },
  {
   "cell_type": "code",
   "execution_count": 274,
   "metadata": {},
   "outputs": [
    {
     "data": {
      "text/plain": [
       "<matplotlib.axes._subplots.AxesSubplot at 0x1185e9978>"
      ]
     },
     "execution_count": 274,
     "metadata": {},
     "output_type": "execute_result"
    },
    {
     "data": {
      "image/png": "[encoded data removed]",
      "text/plain": [
       "<Figure size 432x288 with 1 Axes>"
      ]
     },
     "metadata": {},
     "output_type": "display_data"
    }
   ],
   "source": [
    "plot = df['content'].str.split().str.len().to_frame().boxplot()\n",
    "plot"
   ]
  },
  {
   "cell_type": "code",
   "execution_count": 285,
   "metadata": {},
   "outputs": [],
   "source": [
    "for i in df.index:\n",
    "    article = df['content'].iloc[i].split('\\r\\n')\n",
    "    \n",
    "    # remove lines with no period\n",
    "    article[:] = [sentence for sentence in article if '.' in sentence]\n",
    "    # remove lines with less than 5 words\n",
    "    article[:] = [sentence for sentence in article if len(sentence.split())>5]\n",
    "    \n",
    "    # remove lines with terms that are associated with promotions or credits\n",
    "    article[:] = [sentence for sentence in article if not('click here' in sentence.lower())]\n",
    "    article[:] = [sentence for sentence in article if not('write to' in sentence.lower())]\n",
    "    article[:] = [sentence for sentence in article if not('subscribe' in sentence.lower())]\n",
    "    article[:] = [sentence for sentence in article if not('read more' in sentence.lower())]\n",
    "    article[:] = [sentence for sentence in article if not('read or share' in sentence.lower())]\n",
    "    article[:] = [sentence for sentence in article if not('Photo' in sentence)]\n",
    "    article[:] = [sentence for sentence in article if not('copyright' in sentence.lower())]\n",
    "    article[:] = [sentence for sentence in article if not('©' in sentence.lower())]\n",
    "    \n",
    "    #print(article)\n",
    "    df.at[i,'content']=' '.join(article)"
   ]
  },
  {
   "cell_type": "code",
   "execution_count": 287,
   "metadata": {},
   "outputs": [
    {
     "data": {
      "text/plain": [
       "'SAO PAULO (Reuters) - Brazilian environmental groups on Tuesday blasted President Jair Bolsonaro’s environment minister after he dismissed the murdered Amazon rain forest defender Chico Mendes as “irrelevant.”  “I don’t know Chico Mendes,” Environment Minister Ricardo Salles told journalists on an interview show late Monday night, when asked about the famous Brazilian rubber tapper, union leader and environmentalist who was murdered in 1988.  As environment minister, Salles oversees the Instituto Chico Mendes, which is named after the environmental advocate and oversees Brazil’s protected conservation areas.  Bolsonaro downplayed environmental concerns during his 2018 far-right presidential campaign, threatening to pull Brazil out of the Paris Agreement on climate change and advocating more mining and economic development in the Amazon rainforest.  Salles told interviewers on TV show Roda Viva that he hears contradictory accounts about Mendes’ life, saying environmentalists praise his work while local farmers claim he “used the rubber tappers to advance his own interests.”  “It is irrelevant. What difference does it make who Chico Mendes is at the moment?” Salles said.  His comments fueled criticism of the administration’s stance, which environmentalists say is excessively pro-business and farm interests.  Marina Silva, a former environment minister who organized alongside Mendes as a teenager in the state of Acre, said Salles is “misinformed” about the activist.  “Despite the ignorance of Salles, Chico’s struggle lives on!” she wrote on Twitter.  Salles also confirmed that he would travel to the Amazon for the first time on Tuesday.  His press office could not immediately clarify if it was his first visit as minister or his first-ever trip to the region.  Salles also acknowledged that regulatory “shortcomings” may have led to the rupture of a dam for mining waste owned by Vale SA, which released a wave of mud killing at least 165 people and devastating the Paraobepa river.  Vale, the world’s largest iron ore miner, knew last year that the dam had a heightened risk of rupturing, according to an internal document seen by Reuters on Monday.  In 2015, a similar failure of a nearby tailings dam at a mine co-owned by Vale, also in the state of Minas Gerais, killed 19 people and damaged the Rio Doce river.  The minister said the government has been wasting technical and financial resources on licensing and oversight for all types of projects, and pledged to introduce policy changes to address the problem.  He defended a system whereby environmental licenses for less complex projects are issued faster, saying he believes this would free up resources to oversee projects of higher complexity, including tailings dams. '"
      ]
     },
     "execution_count": 287,
     "metadata": {},
     "output_type": "execute_result"
    }
   ],
   "source": [
    "df['cleanedContent'].iloc[100]"
   ]
  },
  {
   "cell_type": "code",
   "execution_count": 216,
   "metadata": {},
   "outputs": [],
   "source": [
    "OUTPUT_DIR = os.path.join(\"Data\", 'cleanedArticles_test.xlsx')\n",
    "writer = pd.ExcelWriter(OUTPUT_DIR)\n",
    "df.to_excel(writer,'Sheet1')\n",
    "writer.save()"
   ]
  },
  {
   "cell_type": "code",
   "execution_count": null,
   "metadata": {},
   "outputs": [],
   "source": []
  }
 ],
 "metadata": {
  "kernelspec": {
   "display_name": "Python 3",
   "language": "python",
   "name": "python3"
  },
  "language_info": {
   "codemirror_mode": {
    "name": "ipython",
    "version": 3
   },
   "file_extension": ".py",
   "mimetype": "text/x-python",
   "name": "python",
   "nbconvert_exporter": "python",
   "pygments_lexer": "ipython3",
   "version": "3.6.5"
  }
 },
 "nbformat": 4,
 "nbformat_minor": 2
}
