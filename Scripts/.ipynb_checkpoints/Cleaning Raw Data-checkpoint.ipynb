{
 "cells": [
  {
   "cell_type": "markdown",
   "metadata": {},
   "source": [
    "# The following code is used to clean raw newsapi data"
   ]
  },
  {
   "cell_type": "code",
   "execution_count": 1,
   "metadata": {},
   "outputs": [],
   "source": [
    "#Import Data from excel (first 6 columns should contain data)\n",
    "\n",
    "import pandas as pd\n",
    "df = pd.read_excel(\"C:\\\\Users\\\\Legendary\\\\Documents\\\\GitHub\\\\DataCollection\\\\Data\\\\Data to Clean\\\\articles.xlsx\", usecols=5,encoding= \"ISO-8859-1\")\n"
   ]
  },
  {
   "cell_type": "code",
   "execution_count": 2,
   "metadata": {},
   "outputs": [
    {
     "data": {
      "text/plain": [
       "(9699, 6)"
      ]
     },
     "execution_count": 2,
     "metadata": {},
     "output_type": "execute_result"
    }
   ],
   "source": [
    "#remove blanks (NaN)\n",
    "test = df.dropna(subset = ['content', 'title']) \n",
    "test.shape"
   ]
  },
  {
   "cell_type": "code",
   "execution_count": 5,
   "metadata": {},
   "outputs": [],
   "source": [
    "#remove blocked articles without content\n",
    "test1 = test[test.content.str.contains(\"Your usage has been flagged\") == False]\n",
    "test1 = test1[test1.content.str.contains(\"To continue, please click the box\") == False]"
   ]
  },
  {
   "cell_type": "code",
   "execution_count": 7,
   "metadata": {},
   "outputs": [
    {
     "data": {
      "text/plain": [
       "(9543, 6)"
      ]
     },
     "execution_count": 7,
     "metadata": {},
     "output_type": "execute_result"
    }
   ],
   "source": [
    "test1.shape"
   ]
  },
  {
   "cell_type": "code",
   "execution_count": 8,
   "metadata": {},
   "outputs": [],
   "source": [
    "#remove duplicates by url and first 50 characters of title\n",
    "test1 = test1.drop_duplicates(subset=['url'], keep='first')"
   ]
  },
  {
   "cell_type": "code",
   "execution_count": 9,
   "metadata": {},
   "outputs": [
    {
     "data": {
      "text/html": [
       "<div>\n",
       "<style scoped>\n",
       "    .dataframe tbody tr th:only-of-type {\n",
       "        vertical-align: middle;\n",
       "    }\n",
       "\n",
       "    .dataframe tbody tr th {\n",
       "        vertical-align: top;\n",
       "    }\n",
       "\n",
       "    .dataframe thead th {\n",
       "        text-align: right;\n",
       "    }\n",
       "</style>\n",
       "<table border=\"1\" class=\"dataframe\">\n",
       "  <thead>\n",
       "    <tr style=\"text-align: right;\">\n",
       "      <th></th>\n",
       "      <th>index</th>\n",
       "      <th>title</th>\n",
       "      <th>description</th>\n",
       "      <th>url</th>\n",
       "      <th>date</th>\n",
       "      <th>content</th>\n",
       "    </tr>\n",
       "  </thead>\n",
       "  <tbody>\n",
       "    <tr>\n",
       "      <th>0</th>\n",
       "      <td>1</td>\n",
       "      <td>Rival Retailers Try to Catch a Ride on Amazon ...</td>\n",
       "      <td>Bloomberg Rival Retailers Try to Catch a Ride ...</td>\n",
       "      <td>https://www.bloomberg.com/news/articles/2018-0...</td>\n",
       "      <td>2018-07-16T10:15:17Z</td>\n",
       "      <td>Three years ago, Amazon.com Inc. created a sum...</td>\n",
       "    </tr>\n",
       "    <tr>\n",
       "      <th>1</th>\n",
       "      <td>2</td>\n",
       "      <td>Walgreens and AmerisourceBergen deal talks hav...</td>\n",
       "      <td>Deal talks between Walgreens Boots Alliance an...</td>\n",
       "      <td>https://www.cnbc.com/2018/02/27/walgreens-and-...</td>\n",
       "      <td>2018-02-27T18:52:10Z</td>\n",
       "      <td>The drugstore chain's quarterly profit fell, b...</td>\n",
       "    </tr>\n",
       "    <tr>\n",
       "      <th>2</th>\n",
       "      <td>3</td>\n",
       "      <td>Walmart Whistle-Blower Claims Cheating in Race...</td>\n",
       "      <td>In its race to catch Amazon.com Inc. in online...</td>\n",
       "      <td>https://www.bloomberg.com/news/articles/2018-0...</td>\n",
       "      <td>2018-03-15T19:48:32Z</td>\n",
       "      <td>In its race to catch Amazon.com Inc. in online...</td>\n",
       "    </tr>\n",
       "    <tr>\n",
       "      <th>4</th>\n",
       "      <td>5</td>\n",
       "      <td>Buffett-Bezos Health-Care Plan Will Hinge on B...</td>\n",
       "      <td>Bloomberg Buffett-Bezos Health-Care Plan Will ...</td>\n",
       "      <td>https://www.bloomberg.com/news/articles/2018-0...</td>\n",
       "      <td>2018-01-30T15:55:03Z</td>\n",
       "      <td>Big companies have been trying to get a handle...</td>\n",
       "    </tr>\n",
       "    <tr>\n",
       "      <th>6</th>\n",
       "      <td>7</td>\n",
       "      <td>Business this week</td>\n",
       "      <td>The governor of Latvia’s central bank denied c...</td>\n",
       "      <td>https://www.economist.com/news/world-week/2173...</td>\n",
       "      <td>2018-02-22T15:47:23Z</td>\n",
       "      <td>The governor of Latvia’s central bank denied c...</td>\n",
       "    </tr>\n",
       "  </tbody>\n",
       "</table>\n",
       "</div>"
      ],
      "text/plain": [
       "  index                                              title  \\\n",
       "0     1  Rival Retailers Try to Catch a Ride on Amazon ...   \n",
       "1     2  Walgreens and AmerisourceBergen deal talks hav...   \n",
       "2     3  Walmart Whistle-Blower Claims Cheating in Race...   \n",
       "4     5  Buffett-Bezos Health-Care Plan Will Hinge on B...   \n",
       "6     7                                 Business this week   \n",
       "\n",
       "                                         description  \\\n",
       "0  Bloomberg Rival Retailers Try to Catch a Ride ...   \n",
       "1  Deal talks between Walgreens Boots Alliance an...   \n",
       "2  In its race to catch Amazon.com Inc. in online...   \n",
       "4  Bloomberg Buffett-Bezos Health-Care Plan Will ...   \n",
       "6  The governor of Latvia’s central bank denied c...   \n",
       "\n",
       "                                                 url                  date  \\\n",
       "0  https://www.bloomberg.com/news/articles/2018-0...  2018-07-16T10:15:17Z   \n",
       "1  https://www.cnbc.com/2018/02/27/walgreens-and-...  2018-02-27T18:52:10Z   \n",
       "2  https://www.bloomberg.com/news/articles/2018-0...  2018-03-15T19:48:32Z   \n",
       "4  https://www.bloomberg.com/news/articles/2018-0...  2018-01-30T15:55:03Z   \n",
       "6  https://www.economist.com/news/world-week/2173...  2018-02-22T15:47:23Z   \n",
       "\n",
       "                                             content  \n",
       "0  Three years ago, Amazon.com Inc. created a sum...  \n",
       "1  The drugstore chain's quarterly profit fell, b...  \n",
       "2  In its race to catch Amazon.com Inc. in online...  \n",
       "4  Big companies have been trying to get a handle...  \n",
       "6  The governor of Latvia’s central bank denied c...  "
      ]
     },
     "execution_count": 9,
     "metadata": {},
     "output_type": "execute_result"
    }
   ],
   "source": [
    "test1.head()"
   ]
  },
  {
   "cell_type": "code",
   "execution_count": 10,
   "metadata": {},
   "outputs": [],
   "source": [
    "#add a column of first 50 char of title \n",
    "test1['First50'] = test1['title'].str[:50]"
   ]
  },
  {
   "cell_type": "code",
   "execution_count": 11,
   "metadata": {},
   "outputs": [],
   "source": [
    "#remove duplicates by first 50 characters of title\n",
    "test2 = test1.drop_duplicates(subset=['First50'], keep='first')"
   ]
  },
  {
   "cell_type": "code",
   "execution_count": 16,
   "metadata": {},
   "outputs": [
    {
     "data": {
      "text/html": [
       "<div>\n",
       "<style scoped>\n",
       "    .dataframe tbody tr th:only-of-type {\n",
       "        vertical-align: middle;\n",
       "    }\n",
       "\n",
       "    .dataframe tbody tr th {\n",
       "        vertical-align: top;\n",
       "    }\n",
       "\n",
       "    .dataframe thead th {\n",
       "        text-align: right;\n",
       "    }\n",
       "</style>\n",
       "<table border=\"1\" class=\"dataframe\">\n",
       "  <thead>\n",
       "    <tr style=\"text-align: right;\">\n",
       "      <th></th>\n",
       "      <th>index</th>\n",
       "      <th>title</th>\n",
       "      <th>description</th>\n",
       "      <th>url</th>\n",
       "      <th>date</th>\n",
       "      <th>content</th>\n",
       "      <th>First50</th>\n",
       "    </tr>\n",
       "  </thead>\n",
       "  <tbody>\n",
       "    <tr>\n",
       "      <th>0</th>\n",
       "      <td>1</td>\n",
       "      <td>Rival Retailers Try to Catch a Ride on Amazon ...</td>\n",
       "      <td>Bloomberg Rival Retailers Try to Catch a Ride ...</td>\n",
       "      <td>https://www.bloomberg.com/news/articles/2018-0...</td>\n",
       "      <td>2018-07-16T10:15:17Z</td>\n",
       "      <td>Three years ago, Amazon.com Inc. created a sum...</td>\n",
       "      <td>Rival Retailers Try to Catch a Ride on Amazon ...</td>\n",
       "    </tr>\n",
       "    <tr>\n",
       "      <th>1</th>\n",
       "      <td>2</td>\n",
       "      <td>Walgreens and AmerisourceBergen deal talks hav...</td>\n",
       "      <td>Deal talks between Walgreens Boots Alliance an...</td>\n",
       "      <td>https://www.cnbc.com/2018/02/27/walgreens-and-...</td>\n",
       "      <td>2018-02-27T18:52:10Z</td>\n",
       "      <td>The drugstore chain's quarterly profit fell, b...</td>\n",
       "      <td>Walgreens and AmerisourceBergen deal talks hav...</td>\n",
       "    </tr>\n",
       "    <tr>\n",
       "      <th>2</th>\n",
       "      <td>3</td>\n",
       "      <td>Walmart Whistle-Blower Claims Cheating in Race...</td>\n",
       "      <td>In its race to catch Amazon.com Inc. in online...</td>\n",
       "      <td>https://www.bloomberg.com/news/articles/2018-0...</td>\n",
       "      <td>2018-03-15T19:48:32Z</td>\n",
       "      <td>In its race to catch Amazon.com Inc. in online...</td>\n",
       "      <td>Walmart Whistle-Blower Claims Cheating in Race...</td>\n",
       "    </tr>\n",
       "    <tr>\n",
       "      <th>4</th>\n",
       "      <td>5</td>\n",
       "      <td>Buffett-Bezos Health-Care Plan Will Hinge on B...</td>\n",
       "      <td>Bloomberg Buffett-Bezos Health-Care Plan Will ...</td>\n",
       "      <td>https://www.bloomberg.com/news/articles/2018-0...</td>\n",
       "      <td>2018-01-30T15:55:03Z</td>\n",
       "      <td>Big companies have been trying to get a handle...</td>\n",
       "      <td>Buffett-Bezos Health-Care Plan Will Hinge on B...</td>\n",
       "    </tr>\n",
       "    <tr>\n",
       "      <th>6</th>\n",
       "      <td>7</td>\n",
       "      <td>Business this week</td>\n",
       "      <td>The governor of Latvia’s central bank denied c...</td>\n",
       "      <td>https://www.economist.com/news/world-week/2173...</td>\n",
       "      <td>2018-02-22T15:47:23Z</td>\n",
       "      <td>The governor of Latvia’s central bank denied c...</td>\n",
       "      <td>Business this week</td>\n",
       "    </tr>\n",
       "  </tbody>\n",
       "</table>\n",
       "</div>"
      ],
      "text/plain": [
       "  index                                              title  \\\n",
       "0     1  Rival Retailers Try to Catch a Ride on Amazon ...   \n",
       "1     2  Walgreens and AmerisourceBergen deal talks hav...   \n",
       "2     3  Walmart Whistle-Blower Claims Cheating in Race...   \n",
       "4     5  Buffett-Bezos Health-Care Plan Will Hinge on B...   \n",
       "6     7                                 Business this week   \n",
       "\n",
       "                                         description  \\\n",
       "0  Bloomberg Rival Retailers Try to Catch a Ride ...   \n",
       "1  Deal talks between Walgreens Boots Alliance an...   \n",
       "2  In its race to catch Amazon.com Inc. in online...   \n",
       "4  Bloomberg Buffett-Bezos Health-Care Plan Will ...   \n",
       "6  The governor of Latvia’s central bank denied c...   \n",
       "\n",
       "                                                 url                  date  \\\n",
       "0  https://www.bloomberg.com/news/articles/2018-0...  2018-07-16T10:15:17Z   \n",
       "1  https://www.cnbc.com/2018/02/27/walgreens-and-...  2018-02-27T18:52:10Z   \n",
       "2  https://www.bloomberg.com/news/articles/2018-0...  2018-03-15T19:48:32Z   \n",
       "4  https://www.bloomberg.com/news/articles/2018-0...  2018-01-30T15:55:03Z   \n",
       "6  https://www.economist.com/news/world-week/2173...  2018-02-22T15:47:23Z   \n",
       "\n",
       "                                             content  \\\n",
       "0  Three years ago, Amazon.com Inc. created a sum...   \n",
       "1  The drugstore chain's quarterly profit fell, b...   \n",
       "2  In its race to catch Amazon.com Inc. in online...   \n",
       "4  Big companies have been trying to get a handle...   \n",
       "6  The governor of Latvia’s central bank denied c...   \n",
       "\n",
       "                                             First50  \n",
       "0  Rival Retailers Try to Catch a Ride on Amazon ...  \n",
       "1  Walgreens and AmerisourceBergen deal talks hav...  \n",
       "2  Walmart Whistle-Blower Claims Cheating in Race...  \n",
       "4  Buffett-Bezos Health-Care Plan Will Hinge on B...  \n",
       "6                                 Business this week  "
      ]
     },
     "execution_count": 16,
     "metadata": {},
     "output_type": "execute_result"
    }
   ],
   "source": [
    "test2.head()"
   ]
  },
  {
   "cell_type": "code",
   "execution_count": 18,
   "metadata": {
    "scrolled": true
   },
   "outputs": [
    {
     "name": "stderr",
     "output_type": "stream",
     "text": [
      "C:\\Users\\Legendary\\Anaconda3\\lib\\site-packages\\ipykernel_launcher.py:2: SettingWithCopyWarning: \n",
      "A value is trying to be set on a copy of a slice from a DataFrame.\n",
      "Try using .loc[row_indexer,col_indexer] = value instead\n",
      "\n",
      "See the caveats in the documentation: http://pandas.pydata.org/pandas-docs/stable/indexing.html#indexing-view-versus-copy\n",
      "  \n"
     ]
    }
   ],
   "source": [
    "#test2.content.apply(lambda x: x.strip('Play audio for this article Pause This is an experimental feature. Give us your feedback. Thank you for your feedback. I‘ll use it in the future I don‘t think I‘ll use it Please tell us why (optional)'))\n",
    "test2['new clean'] = test2.content.replace(lambda x: x.replace('Play audio for this article Pause This is an experimental feature. Give us your feedback. Thank you for your feedback. I‘ll use it in the future I don‘t think I‘ll use it Please tell us why (optional)',''))"
   ]
  },
  {
   "cell_type": "code",
   "execution_count": 19,
   "metadata": {},
   "outputs": [
    {
     "data": {
      "text/plain": [
       "(9179, 8)"
      ]
     },
     "execution_count": 19,
     "metadata": {},
     "output_type": "execute_result"
    }
   ],
   "source": []
  },
  {
   "cell_type": "code",
   "execution_count": null,
   "metadata": {},
   "outputs": [],
   "source": []
  }
 ],
 "metadata": {
  "kernelspec": {
   "display_name": "Python 3",
   "language": "python",
   "name": "python3"
  },
  "language_info": {
   "codemirror_mode": {
    "name": "ipython",
    "version": 3
   },
   "file_extension": ".py",
   "mimetype": "text/x-python",
   "name": "python",
   "nbconvert_exporter": "python",
   "pygments_lexer": "ipython3",
   "version": "3.6.5"
  }
 },
 "nbformat": 4,
 "nbformat_minor": 2
}
