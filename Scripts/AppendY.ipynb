{
 "cells": [
  {
   "cell_type": "markdown",
   "metadata": {},
   "source": [
    "# Append Y\n",
    "\n",
    "This script reads all the columns added into the main excel datafile, which are assumed to be the additional Y labels for the data. It then appends a copy of this Y column to each othe Encoded Matrices output by FeatureEncoding script. \n",
    "You can also run Feature Encoding from this script directly if it has not already been done."
   ]
  },
  {
   "cell_type": "code",
   "execution_count": 1,
   "metadata": {},
   "outputs": [],
   "source": [
    "#import FeatureEncoding\n",
    "import os\n",
    "from os import listdir\n",
    "from os.path import isfile, join\n",
    "from pathlib import Path\n",
    "import pandas as pd\n",
    "import FeatureEncoding\n",
    "import re"
   ]
  },
  {
   "cell_type": "code",
   "execution_count": 5,
   "metadata": {},
   "outputs": [],
   "source": [
    "def appendY(**kwargs):\n",
    "    #option to re-run encodings from this script, just include runEncoding = True\n",
    "    \n",
    "    # Import Article Data including corresponding Y values\n",
    "    DATA_DIR = \"Data\"    \n",
    "    ARTICLES_DIR = os.path.join(DATA_DIR, \"retailarticles-18-11-06.xlsx\")\n",
    "    arts = pd.read_excel(ARTICLES_DIR)\n",
    "        \n",
    "    # Import the various Y Columns\n",
    "    ys = [y for y in arts.columns if y not in ['index', 'title', 'description', 'url', 'date', 'content']]\n",
    "\n",
    "    \n",
    "    # If you haven't run encodings yet:\n",
    "    if ('runEncoding' in kwargs) and (kwargs['runEncoding']):\n",
    "        for i in range(3):\n",
    "            FeatureEncoding.encoding(i, csv=True)\n",
    "        \n",
    "    # Load each encoding DataFrame\n",
    "    encodings = [f for f in listdir(DATA_DIR) if 'Encoding.csv' in f]\n",
    "\n",
    "    for encodingfile in encodings:\n",
    "        print(encodingfile)\n",
    "        ENC_DIR = os.path.join(DATA_DIR, encodingfile)\n",
    "        encoding = pd.read_csv(ENC_DIR)\n",
    "\n",
    "        encoding = encoding.drop(['Unnamed: 0'], axis = 1)\n",
    "        # Concantenate y column and output csv in CLASSIFICATION Data folder\n",
    "        for y in ys:\n",
    "            final = pd.concat([arts[y], encoding], axis=1)\n",
    "            file_name = y.strip() + \"_\" + encodingfile\n",
    "            thispath = Path().absolute()\n",
    "            OUTPUT_DIR = os.path.join(thispath.parent.parent, \"Classification\", \"Data\", file_name)\n",
    "            pd.DataFrame.to_csv(final, path_or_buf=OUTPUT_DIR)\n"
   ]
  },
  {
   "cell_type": "code",
   "execution_count": 6,
   "metadata": {},
   "outputs": [],
   "source": [
    "def main():\n",
    "    appendY()"
   ]
  },
  {
   "cell_type": "code",
   "execution_count": 7,
   "metadata": {},
   "outputs": [
    {
     "name": "stdout",
     "output_type": "stream",
     "text": [
      "binEncoding.csv\n",
      "tfEncoding.csv\n",
      "tfidfEncoding.csv\n"
     ]
    }
   ],
   "source": [
    "appendY()"
   ]
  },
  {
   "cell_type": "code",
   "execution_count": null,
   "metadata": {},
   "outputs": [],
   "source": []
  }
 ],
 "metadata": {
  "kernelspec": {
   "display_name": "Python 3",
   "language": "python",
   "name": "python3"
  },
  "language_info": {
   "codemirror_mode": {
    "name": "ipython",
    "version": 3
   },
   "file_extension": ".py",
   "mimetype": "text/x-python",
   "name": "python",
   "nbconvert_exporter": "python",
   "pygments_lexer": "ipython3",
   "version": "3.6.6"
  }
 },
 "nbformat": 4,
 "nbformat_minor": 2
}
