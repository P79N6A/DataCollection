{
 "cells": [
  {
   "cell_type": "markdown",
   "metadata": {},
   "source": [
    "# ArticlePage.json output file\n",
    "\n",
    "What this script does:\n",
    "* input: article_id\n",
    "* grab: article title, content, etc, & related articles\n",
    "* take related article_ids and grab their titles & sources\n",
    "* output: according to output_test_script format\n",
    "\n",
    "What this script needs to do:\n",
    "* incorporate markdown tagging"
   ]
  },
  {
   "cell_type": "code",
   "execution_count": 2,
   "metadata": {},
   "outputs": [],
   "source": [
    "import os\n",
    "from pathlib import Path\n",
    "import json\n",
    "import pandas as pd\n"
   ]
  },
  {
   "cell_type": "code",
   "execution_count": 18,
   "metadata": {},
   "outputs": [],
   "source": [
    "def ArticlePage(mainID):\n",
    "    DATA_DIR = \"Data\"\n",
    "    ARTICLES_DIR = os.path.join(DATA_DIR, \"FinalArticles.xlsx\")\n",
    "\n",
    "    arts = pd.read_excel(\"FinalArticles.xlsx\")\n",
    "    print(arts.columns)\n",
    "    #arts = arts.set_index('article_id')\n",
    "\n",
    "    # Get the Main Article\n",
    "    mainArt = arts.loc[mainID, : ][['title', 'url', 'date', 'content','tags', 'related_articles']]\n",
    "    #mainArt = mainArt.drop(['Classify', 'market_moving'])\n",
    "    mainArt['date'] = str(mainArt['date'])\n",
    "    mainArt = mainArt.to_dict()\n",
    "\n",
    "    # Get the related articles - Titles and sources\n",
    "    relIDs = mainArt['related_articles'].split(', ')\n",
    "    print(relIDs)\n",
    "    relArts = []\n",
    "    relArts.append([arts.loc[int(relID), : ][['title', 'url']] for relID in relIDs])\n",
    "    df = pd.DataFrame(relArts[0])\n",
    "    df = df.rename(columns={'url': 'source'})\n",
    "    df['article_id'] = relIDs\n",
    "    relDict = df.to_dict(orient='records')\n",
    "\n",
    "    articlePage = { \"main article\": mainArt, \"related articles\": relDict}\n",
    "\n",
    "    with open(\"articlePage.json\", \"w\") as write_file:\n",
    "        json.dump(articlePage, write_file)\n",
    "    return"
   ]
  },
  {
   "cell_type": "code",
   "execution_count": 19,
   "metadata": {},
   "outputs": [
    {
     "name": "stdout",
     "output_type": "stream",
     "text": [
      "Index(['nonRel', 'Rel', 'url', 'prediction', 'title', 'description', 'source',\n",
      "       'date', 'content', 'origContent', 'tags', 'tags_top_5',\n",
      "       'related_articles'],\n",
      "      dtype='object')\n",
      "['47', '24', '41']\n"
     ]
    }
   ],
   "source": [
    "ArticlePage(2)"
   ]
  },
  {
   "cell_type": "code",
   "execution_count": null,
   "metadata": {},
   "outputs": [],
   "source": []
  }
 ],
 "metadata": {
  "kernelspec": {
   "display_name": "Python 3",
   "language": "python",
   "name": "python3"
  },
  "language_info": {
   "codemirror_mode": {
    "name": "ipython",
    "version": 3
   },
   "file_extension": ".py",
   "mimetype": "text/x-python",
   "name": "python",
   "nbconvert_exporter": "python",
   "pygments_lexer": "ipython3",
   "version": "3.6.6"
  }
 },
 "nbformat": 4,
 "nbformat_minor": 2
}
